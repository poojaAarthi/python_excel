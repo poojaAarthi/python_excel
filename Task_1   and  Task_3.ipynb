{
 "cells": [
  {
   "cell_type": "code",
   "execution_count": 1,
   "id": "08daffaf",
   "metadata": {},
   "outputs": [],
   "source": [
    "from selenium import webdriver\n",
    "from selenium.webdriver.support.ui import Select\n",
    "import time\n",
    "import pandas as pd\n",
    "import os\n",
    "import  xlsxwriter"
   ]
  },
  {
   "cell_type": "code",
   "execution_count": null,
   "id": "db39fc1c",
   "metadata": {},
   "outputs": [],
   "source": [
    "\n",
    "\n"
   ]
  },
  {
   "cell_type": "code",
   "execution_count": null,
   "id": "8eef413d",
   "metadata": {},
   "outputs": [],
   "source": []
  },
  {
   "cell_type": "code",
   "execution_count": null,
   "id": "253f575f",
   "metadata": {},
   "outputs": [],
   "source": []
  },
  {
   "cell_type": "code",
   "execution_count": null,
   "id": "63370fd6",
   "metadata": {},
   "outputs": [],
   "source": [
    "\n",
    "   \n",
    "\n",
    "    "
   ]
  },
  {
   "cell_type": "code",
   "execution_count": null,
   "id": "bb4e88d8",
   "metadata": {},
   "outputs": [],
   "source": []
  },
  {
   "cell_type": "code",
   "execution_count": null,
   "id": "72a63353",
   "metadata": {},
   "outputs": [],
   "source": [
    "\n"
   ]
  },
  {
   "cell_type": "code",
   "execution_count": null,
   "id": "9bdd486a",
   "metadata": {},
   "outputs": [],
   "source": [
    "\n",
    "        \n",
    "      \n",
    "        "
   ]
  },
  {
   "cell_type": "code",
   "execution_count": 2,
   "id": "3d6f0ef6",
   "metadata": {},
   "outputs": [
    {
     "name": "stdout",
     "output_type": "stream",
     "text": [
      "[['1', '    –', 'Kane Williamson', 'NEW ZEALAND', '901'], ['2', '    3', 'Joe Root', 'ENGLAND', '893'], ['3', '    1', 'Steven Smith', 'AUSTRALIA', '891'], ['4', '    1', 'Marnus Labuschagne', 'AUSTRALIA', '878'], ['5', '    1', 'Virat Kohli', 'INDIA', '776'], ['6', '    –', 'Rohit Sharma', 'INDIA', '773'], ['7', '    –', 'Rishabh Pant', 'INDIA', '736'], ['8', '    3', 'Babar Azam', 'PAKISTAN', '725'], ['9', '    1', 'David Warner', 'AUSTRALIA', '724'], ['10', '    1', 'Quinton de Kock', 'SOUTH AFRICA', '717'], ['11', '    1', 'Henry Nicholls', 'NEW ZEALAND', '714'], ['12', '    –', 'Dimuth Karunaratne', 'SRI LANKA', '712'], ['13', '    1', 'Ross Taylor', 'NEW ZEALAND', '693'], ['14', '    3', 'Tom Latham', 'NEW ZEALAND', '677'], ['15', '    2', 'Ajinkya Rahane', 'INDIA', '677'], ['16', '    1', 'Ben Stokes', 'ENGLAND', '677'], ['17', '    2', 'Dean Elgar', 'SOUTH AFRICA', '661'], ['18', '    2', 'Cheteshwar Pujara', 'INDIA', '658'], ['19', '    1', 'Azhar Ali', 'PAKISTAN', '658'], ['20', '    –', 'Aiden Markram', 'SOUTH AFRICA', '651'], ['21', '    –', 'Mohammad Rizwan', 'PAKISTAN', '637'], ['22', '    1', 'Mushfiqur Rahim', 'BANGLADESH', '626'], ['23', '    1', 'Travis Head', 'AUSTRALIA', '618'], ['24', '    1', 'Angelo Mathews', 'SRI LANKA', '618'], ['25', '    2', 'Tamim Iqbal', 'BANGLADESH', '605'], ['26', '    2', 'Sean Williams', 'ZIMBABWE', '603'], ['27', '    2', 'Brendan Taylor', 'ZIMBABWE', '603'], ['28', '    6', 'Rory Burns', 'ENGLAND', '600'], ['29', '    1', 'Mominul Haque', 'BANGLADESH', '596'], ['30', '    2', 'Niroshan Dickwella', 'SRI LANKA', '589'], ['31', '    2', 'Dhananjaya de Silva', 'SRI LANKA', '588'], ['32', '    1', 'Mayank Agarwal', 'INDIA', '583'], ['33', '    7', 'Jos Buttler', 'ENGLAND', '582'], ['34', '    1', 'Faf du Plessis', 'SOUTH AFRICA', '570'], ['35', '    1', 'Asad Shafiq', 'PAKISTAN', '567'], ['36', '    9', 'Jermaine Blackwood', 'WEST INDIES', '567'], ['37', '    38', 'KL Rahul', 'INDIA', '559'], ['38', '    2', 'Ravindra Jadeja', 'INDIA', '557'], ['39', '    1', 'Tim Paine', 'AUSTRALIA', '555'], ['40', '    3', 'Abid Ali', 'PAKISTAN', '553'], ['41', '    2', 'Shakib Al Hasan', 'BANGLADESH', '553'], ['42', '    1', 'Colin de Grandhomme', 'NEW ZEALAND', '549'], ['43', '    7', 'Jason Holder', 'WEST INDIES', '548'], ['44', '    2', 'Devon Conway', 'NEW ZEALAND', '547'], ['45', '    19', 'Kraigg Brathwaite', 'WEST INDIES', '545'], ['46', '    3', 'Rassie van der Dussen', 'SOUTH AFRICA', '542'], ['47', '    3', 'Mahmudullah', 'BANGLADESH', '540'], ['48', '    6', 'Faheem Ashraf', 'PAKISTAN', '529'], ['49', '    3', 'Dinesh Chandimal', 'SRI LANKA', '526'], ['50', '    3', 'Sikandar Raza', 'ZIMBABWE', '523'], ['51', '    3', 'Craig Ervine', 'ZIMBABWE', '522'], ['52', '    3', 'Tom Blundell', 'NEW ZEALAND', '519'], ['53', '    2', 'Temba Bavuma', 'SOUTH AFRICA', '518'], ['54', '    1', 'Kusal Mendis', 'SRI LANKA', '514'], ['55', '    5', 'Fawad Alam', 'PAKISTAN', '512'], ['56', '    1', 'Liton Das', 'BANGLADESH', '509'], ['57', '    5', 'Ollie Pope', 'ENGLAND', '504'], ['58', '    1', 'Matthew Wade', 'AUSTRALIA', '501'], ['59', '    1', 'Shan Masood', 'PAKISTAN', '500'], ['60', '    1', 'Oshada Fernando', 'SRI LANKA', '499'], ['61', '    1', 'Lahiru Thirimanne', 'SRI LANKA', '498'], ['62', '    1', 'Joe Burns', 'AUSTRALIA', '497'], ['63', '    4', 'Asghar Afghan', 'AFGHANISTAN', '487'], ['64', '    4', 'Ibrahim Zadran', 'AFGHANISTAN', '486'], ['65', '    5', 'Kusal Perera', 'SRI LANKA', '485'], ['66', '    9', 'Dominic Sibley', 'ENGLAND', '483'], ['67', '    2', 'Shane Dowrich', 'WEST INDIES', '481'], ['68', '    3', 'Hanuma Vihari', 'INDIA', '480'], ['69', '    3', 'Washington Sundar', 'INDIA', '479'], ['70', '    2', 'Joe Denly', 'ENGLAND', '470'], ['71', '    2', 'Shubman Gill', 'INDIA', '468'], ['72', '    5', 'Jonny Bairstow', 'ENGLAND', '463'], ['73', '    3', 'Roston Chase', 'WEST INDIES', '457'], ['74', '    18', 'Nkrumah Bonner', 'WEST INDIES', '455'], ['75', '    3', 'Zak Crawley', 'ENGLAND', '430'], ['76', '    5', 'Kyle Jamieson', 'NEW ZEALAND', '429'], ['77', '    6', 'Kyle Mayers', 'WEST INDIES', '429'], ['78', '    1', 'Shamarh Brooks', 'WEST INDIES', '428'], ['79', '    3', 'Regis Chakabva', 'ZIMBABWE', '427'], ['80', '    –', 'Shai Hope', 'WEST INDIES', '426'], ['81', '    4', 'Ravichandran Ashwin', 'INDIA', '407'], ['82', '    4', 'Haris Sohail', 'PAKISTAN', '400'], ['83', '    5', 'Hashmatullah Shahidi', 'AFGHANISTAN', '397'], ['84', '    3', 'John Campbell', 'WEST INDIES', '397'], ['85', '    6', 'Sam Curran', 'ENGLAND', '396'], ['86', '    6', 'Darren Bravo', 'WEST INDIES', '384'], ['87', '    7', 'Soumya Sarkar', 'BANGLADESH', '378'], ['88', '    7', 'Rahmat Shah', 'AFGHANISTAN', '377'], ['90', '    7', 'Mitchell Starc', 'AUSTRALIA', '370'], ['91', '    7', 'Cameron Green', 'AUSTRALIA', '368'], ['92', '    7', 'Shadman Islam', 'BANGLADESH', '368'], ['93', '    3', 'Chris Woakes', 'ENGLAND', '365'], ['94', '    1', 'Kieran Powell', 'WEST INDIES', '363'], ['95', '    –', 'Mitchell Santner', 'NEW ZEALAND', '355'], ['96', '    –', 'Moeen Ali', 'ENGLAND', '348'], ['97', '    –', 'Daryl Mitchell', 'NEW ZEALAND', '347'], ['98', '    –', 'Joshua Da Silva', 'WEST INDIES', '345'], ['100', '    –', 'Ben Foakes', 'ENGLAND', '336'], [''], [''], [''], [''], [''], [''], [''], [''], [''], [''], [''], [''], [''], [''], [''], [''], [''], [''], [''], [''], [''], [''], [''], [''], [''], [''], [''], [''], [''], [''], [''], [''], [''], [''], [''], [''], [''], [''], [''], [''], [''], [''], [''], [''], [''], [''], [''], [''], [''], [''], [''], [''], [''], [''], [''], [''], [''], [''], [''], [''], [''], [''], [''], [''], [''], [''], [''], [''], [''], [''], [''], [''], [''], [''], [''], [''], [''], [''], [''], [''], [''], [''], [''], [''], [''], [''], [''], [''], [''], [''], [''], [''], [''], [''], [''], [''], [''], [''], [''], [''], [''], [''], [''], [''], [''], [''], [''], [''], [''], [''], [''], [''], [''], [''], [''], [''], [''], [''], [''], [''], [''], [''], [''], [''], [''], [''], [''], [''], [''], [''], [''], [''], [''], [''], [''], [''], [''], [''], [''], [''], [''], [''], [''], [''], [''], [''], [''], [''], [''], [''], [''], [''], [''], [''], [''], [''], [''], [''], [''], [''], [''], [''], [''], [''], [''], [''], [''], [''], [''], [''], [''], [''], [''], [''], [''], [''], [''], [''], [''], [''], [''], [''], [''], [''], [''], [''], [''], [''], [''], [''], [''], [''], [''], [''], [''], [''], ['']] [['1', '    –', 'Babar Azam', 'PAKISTAN', '873'], ['2', '    –', 'Virat Kohli', 'INDIA', '844'], ['3', '    –', 'Rohit Sharma', 'INDIA', '813'], ['4', '    –', 'Ross Taylor', 'NEW ZEALAND', '801'], ['5', '    –', 'Aaron Finch', 'AUSTRALIA', '779'], ['6', '    –', 'Jonny Bairstow', 'ENGLAND', '775'], ['7', '    –', 'David Warner', 'AUSTRALIA', '762'], ['8', '    2', 'Quinton de Kock', 'SOUTH AFRICA', '758'], ['9', '    1', 'Shai Hope', 'WEST INDIES', '758'], ['10', '    1', 'Kane Williamson', 'NEW ZEALAND', '754'], ['11', '    1', 'Fakhar Zaman', 'PAKISTAN', '741'], ['12', '    1', 'Joe Root', 'ENGLAND', '740'], ['13', '    1', 'Mushfiqur Rahim', 'BANGLADESH', '723'], ['14', '    1', 'Imam-ul-Haq', 'PAKISTAN', '717'], ['15', '    3', 'Martin Guptill', 'NEW ZEALAND', '707'], ['16', '    –', 'Shikhar Dhawan', 'INDIA', '704'], ['17', '    –', 'Steven Smith', 'AUSTRALIA', '696'], ['18', '    1', 'Jason Roy', 'ENGLAND', '687'], ['19', '    2', 'Rassie van der Dussen', 'SOUTH AFRICA', '678'], ['20', '    –', 'Glenn Maxwell', 'AUSTRALIA', '674'], ['21', '    2', 'Tamim Iqbal', 'BANGLADESH', '670'], ['22', '    5', 'Alex Carey', 'AUSTRALIA', '669'], ['23', '    1', 'Paul Stirling', 'IRELAND', '664'], ['24', '    1', 'Ben Stokes', 'ENGLAND', '651'], ['25', '    1', 'Eoin Morgan', 'ENGLAND', '650'], ['26', '    2', 'Shakib Al Hasan', 'BANGLADESH', '641'], ['27', '    2', 'KL Rahul', 'INDIA', '636'], ['28', '    3', 'David Miller', 'SOUTH AFRICA', '632'], ['29', '    3', 'Tom Latham', 'NEW ZEALAND', '624'], ['30', '    3', 'Nicholas Pooran', 'WEST INDIES', '615'], ['31', '    3', 'Jos Buttler', 'ENGLAND', '608'], ['32', '    2', 'Shimron Hetmyer', 'WEST INDIES', '607'], ['33', '    2', 'Haris Sohail', 'PAKISTAN', '594'], ['34', '    2', 'Henry Nicholls', 'NEW ZEALAND', '581'], ['35', '    2', 'Aqib Ilyas', 'OMAN', '578'], ['36', '    2', 'Andrew Balbirnie', 'IRELAND', '575'], ['37', '    2', 'Kyle Coetzer', 'SCOTLAND', '573'], ['38', '    2', 'Brendan Taylor', 'ZIMBABWE', '572'], ['39', '    2', 'Mahmudullah', 'BANGLADESH', '571'], ['40', '    2', 'Kusal Perera', 'SRI LANKA', '560'], ['41', '    3', 'Rahmat Shah', 'AFGHANISTAN', '559'], ['42', '    1', 'Evin Lewis', 'WEST INDIES', '558'], ['43', '    2', 'Liton Das', 'BANGLADESH', '558'], ['44', '    4', 'Sean Williams', 'ZIMBABWE', '553'], ['45', '    1', 'Kedar Jadhav', 'INDIA', '552'], ['46', '    1', 'Angelo Mathews', 'SRI LANKA', '550'], ['47', '    2', 'Hardik Pandya', 'INDIA', '548'], ['48', '    3', 'Sikandar Raza', 'ZIMBABWE', '540'], ['49', '    1', 'Danushka Gunathilaka', 'SRI LANKA', '538'], ['50', '    3', 'Kusal Mendis', 'SRI LANKA', '526'], ['51', '    4', 'Imad Wasim', 'PAKISTAN', '525'], ['52', '    16', 'Avishka Fernando', 'SRI LANKA', '522'], ['53', '    3', 'Soumya Sarkar', 'BANGLADESH', '521'], ['54', '    –', 'Marcus Stoinis', 'AUSTRALIA', '517'], ['55', '    3', 'Calum MacLeod', 'SCOTLAND', '508'], ['56', '    3', 'Colin de Grandhomme', 'NEW ZEALAND', '507'], ['57', '    3', 'Najibullah Zadran', 'AFGHANISTAN', '506'], ['58', '    5', 'Sarfaraz Ahmed', 'PAKISTAN', '504'], ['59', '    3', 'Niroshan Dickwella', 'SRI LANKA', '503'], ['60', '    5', 'Hashmatullah Shahidi', 'AFGHANISTAN', '498'], ['61', '    –', 'Marnus Labuschagne', 'AUSTRALIA', '498'], ['62', '    4', 'James Neesham', 'NEW ZEALAND', '495'], ['63', '    6', 'Mohammad Nabi', 'AFGHANISTAN', '494'], ['64', '    6', 'Mitchell Marsh', 'AUSTRALIA', '489'], ['65', '    6', 'Janneman Malan', 'SOUTH AFRICA', '485'], ['66', '    7', 'Asghar Afghan', 'AFGHANISTAN', '479'], ['67', '    7', 'Richie Berrington', 'SCOTLAND', '479'], ['68', '    7', 'Shreyas Iyer', 'INDIA', '472'], ['69', '    8', 'Mohammad Usman', 'UNITED ARAB EMIRATES', '471'], ['70', '    8', 'William Porterfield', 'IRELAND', '471'], ['71', '    5', 'Dhananjaya de Silva', 'SRI LANKA', '461'], ['72', '    8', 'Mitchell Santner', 'NEW ZEALAND', '460'], ['73', '    8', 'Craig Ervine', 'ZIMBABWE', '457'], ['74', '    9', 'Jason Holder', 'WEST INDIES', '446'], ['75', '    7', 'Aiden Markram', 'SOUTH AFRICA', '445'], ['76', '    9', 'Temba Bavuma', 'SOUTH AFRICA', '443'], ['77', '    9', 'Heinrich Klaasen', 'SOUTH AFRICA', '442'], ['78', '    9', 'Andile Phehlukwayo', 'SOUTH AFRICA', '439'], ['79', '    5', 'Assad Vala', 'PAPUA NEW GUINEA', '439'], ['80', '    8', 'Lahiru Thirimanne', 'SRI LANKA', '436'], ['81', '    9', 'Harry Tector', 'IRELAND', '434'], ['82', '    7', 'Ravindra Jadeja', 'INDIA', '434'], ['83', '    8', 'Mohammad Mithun', 'BANGLADESH', '433'], ['84', '    8', 'Rashid Khan', 'AFGHANISTAN', '432'], ['85', '    8', 'George Munsey', 'SCOTLAND', '430'], ['86', '    9', 'Rishabh Pant', 'INDIA', '426'], ['87', '    –', 'Matthew Wade', 'AUSTRALIA', '424'], ['88', '    8', 'Rovman Powell', 'WEST INDIES', '419'], ['89', '    10', 'Curtis Campher', 'IRELAND', '418'], ['90', '    7', 'Dasun Shanaka', 'SRI LANKA', '418'], ['91', '    7', 'Dinesh Chandimal', 'SRI LANKA', '417'], ['92', '    –', 'Kieron Pollard', 'WEST INDIES', '416'], ['93', '    –', 'Gulbadin Naib', 'AFGHANISTAN', '415'], ['94', '    –', 'Mohammad Rizwan', 'PAKISTAN', '414'], ['95', '    5', 'Tony Ura', 'PAPUA NEW GUINEA', '412'], ['96', '    –', 'Moeen Ali', 'ENGLAND', '404'], ['97', '    –', 'Wanindu Hasaranga', 'SRI LANKA', '403'], ['98', '    –', 'Chris Woakes', 'ENGLAND', '403'], ['99', '    –', 'Simi Singh', 'IRELAND', '402'], ['100', '    –', 'Matthew Cross', 'SCOTLAND', '398']] "
     ]
    },
    {
     "name": "stdout",
     "output_type": "stream",
     "text": [
      "[['1', '    –', 'Dawid Malan', 'ENGLAND', '841'], ['2', '    –', 'Babar Azam', 'PAKISTAN', '819'], ['3', '    1', 'Devon Conway', 'NEW ZEALAND', '774'], ['4', '    1', 'Aaron Finch', 'AUSTRALIA', '733'], ['5', '    –', 'Virat Kohli', 'INDIA', '717'], ['6', '    –', 'KL Rahul', 'INDIA', '699'], ['7', '    –', 'Mohammad Rizwan', 'PAKISTAN', '692'], ['8', '    1', 'Martin Guptill', 'NEW ZEALAND', '688'], ['9', '    1', 'Evin Lewis', 'WEST INDIES', '664'], ['10', '    –', 'Rassie van der Dussen', 'SOUTH AFRICA', '650'], ['11', '    –', 'Hazratullah Zazai', 'AFGHANISTAN', '636'], ['12', '    1', 'Quinton de Kock', 'SOUTH AFRICA', '609'], ['13', '    3', 'Eoin Morgan', 'ENGLAND', '599'], ['14', '    3', 'Jason Roy', 'ENGLAND', '592'], ['15', '    3', 'Colin Munro', 'NEW ZEALAND', '592'], ['16', '    3', 'Jos Buttler', 'ENGLAND', '590'], ['17', '    3', 'Jonny Bairstow', 'ENGLAND', '588'], ['18', '    3', 'George Munsey', 'SCOTLAND', '583'], ['19', '    5', 'Rohit Sharma', 'INDIA', '577'], ['20', '    2', 'Rahmanullah Gurbaz', 'AFGHANISTAN', '576'], ['21', '    16', 'Mitchell Marsh', 'AUSTRALIA', '575'], ['22', '    1', 'Tim Seifert', 'NEW ZEALAND', '573'], ['23', '    11', 'Glenn Maxwell', 'AUSTRALIA', '567'], ['24', '    –', 'Paul Stirling', 'IRELAND', '566'], ['25', '    10', 'Aiden Markram', 'SOUTH AFRICA', '563'], ['26', '    –', 'Glenn Phillips', 'NEW ZEALAND', '544'], ['28', '    –', 'Richie Berrington', 'SCOTLAND', '542'], ['29', '    –', 'Mohammad Naim', 'BANGLADESH', '536'], ['30', '    2', 'Reeza Hendricks', 'SOUTH AFRICA', '526'], ['31', '    3', 'Shikhar Dhawan', 'INDIA', '526'], ['32', '    1', 'Mohammad Nabi', 'AFGHANISTAN', '523'], ['33', '    9', 'David Miller', 'SOUTH AFRICA', '518'], ['34', '    1', 'Mahmudullah', 'BANGLADESH', '518'], ['35', '    10', 'Shreyas Iyer', 'INDIA', '516'], ['36', '    1', 'Kane Williamson', 'NEW ZEALAND', '512'], ['37', '    1', 'Kyle Coetzer', 'SCOTLAND', '511'], ['38', '    –', 'Andrew Balbirnie', 'IRELAND', '505'], ['39', '    1', 'Tony Ura', 'PAPUA NEW GUINEA', '503'], ['40', '    5', 'Ben Cooper', 'NETHERLANDS', '493'], ['41', '    5', 'Najibullah Zadran', 'AFGHANISTAN', '492'], ['42', '    5', 'Max ODowd', 'NETHERLANDS', '491'], ['43', '    2', 'Kevin O Brien', 'IRELAND', '491'], ['44', '    1', 'Soumya Sarkar', 'BANGLADESH', '483'], ['45', '    3', 'Calum MacLeod', 'SCOTLAND', '483'], ['46', '    3', 'Jatinder Singh', 'OMAN', '482'], ['47', '    3', 'Fakhar Zaman', 'PAKISTAN', '481'], ['48', '    16', 'Nicholas Pooran', 'WEST INDIES', '481'], ['49', '    10', 'Kusal Perera', 'SRI LANKA', '478'], ['50', '    17', 'Suryakumar Yadav', 'INDIA', '477'], ['51', '    1', 'Matthew Cross', 'SCOTLAND', '474'], ['52', '    –', 'Asghar Afghan', 'AFGHANISTAN', '472'], ['53', '    9', 'Shakib Al Hasan', 'BANGLADESH', '469'], ['54', '    –', 'Mohammad Usman', 'UNITED ARAB EMIRATES', '458'], ['55', '    –', 'Tim David', 'SINGAPORE', '457'], ['56', '    26', 'Liton Das', 'BANGLADESH', '449'], ['57', '    4', 'Mohammad Hafeez', 'PAKISTAN', '446'], ['58', '    1', 'Kamran Khan', 'QATAR', '445'], ['59', '    8', 'Lendl Simmons', 'WEST INDIES', '443'], ['60', '    1', 'Kushal Bhurtel', 'NEPAL', '442'], ['61', '    2', 'Ravija Sandaruwan', 'KUWAIT', '435'], ['62', '    4', 'Collins Obuya', 'KENYA', '429'], ['63', '    7', 'Danushka Gunathilaka', 'SRI LANKA', '423'], ['64', '    6', 'Gerhard Erasmus', 'NAMIBIA', '421'], ['66', '    1', 'Faf du Plessis', 'SOUTH AFRICA', '417'], ['67', '    1', 'Kieron Pollard', 'WEST INDIES', '417'], ['68', '    24', 'Temba Bavuma', 'SOUTH AFRICA', '411'], ['69', '    6', 'Nizakat Khan', 'HONG KONG', '405'], ['70', '    13', 'D Arcy Short', 'AUSTRALIA', '404'], ['71', '    11', 'David Warner', 'AUSTRALIA', '401'], ['72', '    –', 'Shimron Hetmyer', 'WEST INDIES', '401'], ['73', '    6', 'Zeeshan Maqsood', 'OMAN', '398'], ['74', '    3', 'Sean Williams', 'ZIMBABWE', '396'], ['75', '    6', 'Rakep Patel', 'KENYA', '394'], ['76', '    2', 'Heinrich Klaasen', 'SOUTH AFRICA', '393'], ['77', '    –', 'Gareth Delany', 'IRELAND', '388'], ['78', '    6', 'Ross Taylor', 'NEW ZEALAND', '388'], ['79', '    6', 'Finn Allen', 'NEW ZEALAND', '384'], ['80', '    6', 'Rishabh Pant', 'INDIA', '383'], ['81', '    5', 'Muhammad Tanveer', 'QATAR', '382'], ['82', '    24', 'Tamim Iqbal', 'BANGLADESH', '381'], ['83', '    10', 'Matthew Wade', 'AUSTRALIA', '378'], ['84', '    4', 'Navneet Dhaliwal', 'CANADA', '375'], ['85', '    5', 'Kusal Mendis', 'SRI LANKA', '373'], ['86', '    3', 'Rohan Mustafa', 'UNITED ARAB EMIRATES', '370'], ['87', '    3', 'Usman Ghani', 'AFGHANISTAN', '367'], ['88', '    –', 'Ryan Burl', 'ZIMBABWE', '366'], ['89', '    6', 'Harry Tector', 'IRELAND', '365'], ['90', '    1', 'Paras Khadka', 'NEPAL', '362'], ['91', '    2', 'Khawar Ali', 'OMAN', '360'], ['92', '    23', 'Mushfiqur Rahim', 'BANGLADESH', '359'], ['93', '    1', 'Ryan ten Doeschate', 'NETHERLANDS', '358'], ['94', '    1', 'Gyanendra Malla', 'NEPAL', '357'], ['95', '    1', 'Nitish Kumar', 'CANADA', '356'], ['96', '    9', 'Manish Pandey', 'INDIA', '354'], ['97', '    15', 'Steven Smith', 'AUSTRALIA', '352'], ['99', '    23', 'Sabbir Rahman', 'BANGLADESH', '345'], ['100', '    1', 'Samiullah Shinwari', 'AFGHANISTAN', '344']] "
     ]
    }
   ],
   "source": [
    "driv=(r\"C:\\Users\\Merit\\Downloads\\chromedriver_win32 (1)\\chromedriver.exe\")\n",
    "driver = webdriver.Chrome(executable_path=driv)\n",
    "driver.get(\"https://www.cricbuzz.com/cricket-stats/icc-rankings/men/batting\")\n",
    "driver.find_element_by_xpath(\"//a[@id='batsmen-tests-tab']\").click()\n",
    "a=driver.find_elements_by_xpath(\"//a[@id='batsmen-tests-tab']//following::div[contains(@class,'cb-col cb-col-100 cb-font-14 cb-lst-itm text-center')]\")\n",
    "l=[]\n",
    "for i in a:\n",
    "    l.append(i.text.split(\"\\n\"))\n",
    "print(l,end=\" \")\n",
    "driver.find_element_by_xpath(\"//a[@id='batsmen-odis-tab']\").click()\n",
    "c=driver.find_elements_by_xpath(\"//a[@id='batsmen-odis-tab']//following::div[contains(@class,'cb-col cb-col-100 cb-font-14 cb-lst-itm text-center')]\")\n",
    "l1=[]\n",
    "for j in c:\n",
    "    if j.text!='':\n",
    "        l1.append(j.text.split(\"\\n\"))\n",
    "print(l1,end=\" \")\n",
    "driver.find_element_by_xpath(\"//a[@id='batsmen-t20s-tab']\").click()\n",
    "d=driver.find_elements_by_xpath(\"//a[@id='batsmen-t20s-tab']//following::div[contains(@class,'cb-col cb-col-100 cb-font-14 cb-lst-itm text-center')]\")\n",
    "l2=[]\n",
    "for k in d:\n",
    "    if k.text!='':\n",
    "        l2.append(k.text.split(\"\\n\"))\n",
    "print(l2,end=\" \")"
   ]
  },
  {
   "cell_type": "code",
   "execution_count": null,
   "id": "2415b199",
   "metadata": {},
   "outputs": [],
   "source": []
  },
  {
   "cell_type": "code",
   "execution_count": 9,
   "id": "6099ed8c",
   "metadata": {},
   "outputs": [
    {
     "name": "stdout",
     "output_type": "stream",
     "text": [
      "[['1', '    –', 'Kane Williamson', 'NEW ZEALAND', '901'], ['2', '    3', 'Joe Root', 'ENGLAND', '893'], ['3', '    1', 'Steven Smith', 'AUSTRALIA', '891'], ['4', '    1', 'Marnus Labuschagne', 'AUSTRALIA', '878'], ['5', '    1', 'Virat Kohli', 'INDIA', '776'], ['6', '    –', 'Rohit Sharma', 'INDIA', '773'], ['7', '    –', 'Rishabh Pant', 'INDIA', '736'], ['8', '    3', 'Babar Azam', 'PAKISTAN', '725'], ['9', '    1', 'David Warner', 'AUSTRALIA', '724'], ['10', '    1', 'Quinton de Kock', 'SOUTH AFRICA', '717'], ['11', '    1', 'Henry Nicholls', 'NEW ZEALAND', '714'], ['12', '    –', 'Dimuth Karunaratne', 'SRI LANKA', '712'], ['13', '    1', 'Ross Taylor', 'NEW ZEALAND', '693'], ['14', '    3', 'Tom Latham', 'NEW ZEALAND', '677'], ['15', '    2', 'Ajinkya Rahane', 'INDIA', '677'], ['16', '    1', 'Ben Stokes', 'ENGLAND', '677'], ['17', '    2', 'Dean Elgar', 'SOUTH AFRICA', '661'], ['18', '    2', 'Cheteshwar Pujara', 'INDIA', '658'], ['19', '    1', 'Azhar Ali', 'PAKISTAN', '658'], ['20', '    –', 'Aiden Markram', 'SOUTH AFRICA', '651'], ['21', '    –', 'Mohammad Rizwan', 'PAKISTAN', '637'], ['22', '    1', 'Mushfiqur Rahim', 'BANGLADESH', '626'], ['23', '    1', 'Travis Head', 'AUSTRALIA', '618'], ['24', '    1', 'Angelo Mathews', 'SRI LANKA', '618'], ['25', '    2', 'Tamim Iqbal', 'BANGLADESH', '605'], ['26', '    2', 'Sean Williams', 'ZIMBABWE', '603'], ['27', '    2', 'Brendan Taylor', 'ZIMBABWE', '603'], ['28', '    6', 'Rory Burns', 'ENGLAND', '600'], ['29', '    1', 'Mominul Haque', 'BANGLADESH', '596'], ['30', '    2', 'Niroshan Dickwella', 'SRI LANKA', '589'], ['31', '    2', 'Dhananjaya de Silva', 'SRI LANKA', '588'], ['32', '    1', 'Mayank Agarwal', 'INDIA', '583'], ['33', '    7', 'Jos Buttler', 'ENGLAND', '582'], ['34', '    1', 'Faf du Plessis', 'SOUTH AFRICA', '570'], ['35', '    1', 'Asad Shafiq', 'PAKISTAN', '567'], ['36', '    9', 'Jermaine Blackwood', 'WEST INDIES', '567'], ['37', '    38', 'KL Rahul', 'INDIA', '559'], ['38', '    2', 'Ravindra Jadeja', 'INDIA', '557'], ['39', '    1', 'Tim Paine', 'AUSTRALIA', '555'], ['40', '    3', 'Abid Ali', 'PAKISTAN', '553'], ['41', '    2', 'Shakib Al Hasan', 'BANGLADESH', '553'], ['42', '    1', 'Colin de Grandhomme', 'NEW ZEALAND', '549'], ['43', '    7', 'Jason Holder', 'WEST INDIES', '548'], ['44', '    2', 'Devon Conway', 'NEW ZEALAND', '547'], ['45', '    19', 'Kraigg Brathwaite', 'WEST INDIES', '545'], ['46', '    3', 'Rassie van der Dussen', 'SOUTH AFRICA', '542'], ['47', '    3', 'Mahmudullah', 'BANGLADESH', '540'], ['48', '    6', 'Faheem Ashraf', 'PAKISTAN', '529'], ['49', '    3', 'Dinesh Chandimal', 'SRI LANKA', '526'], ['50', '    3', 'Sikandar Raza', 'ZIMBABWE', '523'], ['51', '    3', 'Craig Ervine', 'ZIMBABWE', '522'], ['52', '    3', 'Tom Blundell', 'NEW ZEALAND', '519'], ['53', '    2', 'Temba Bavuma', 'SOUTH AFRICA', '518'], ['54', '    1', 'Kusal Mendis', 'SRI LANKA', '514'], ['55', '    5', 'Fawad Alam', 'PAKISTAN', '512'], ['56', '    1', 'Liton Das', 'BANGLADESH', '509'], ['57', '    5', 'Ollie Pope', 'ENGLAND', '504'], ['58', '    1', 'Matthew Wade', 'AUSTRALIA', '501'], ['59', '    1', 'Shan Masood', 'PAKISTAN', '500'], ['60', '    1', 'Oshada Fernando', 'SRI LANKA', '499'], ['61', '    1', 'Lahiru Thirimanne', 'SRI LANKA', '498'], ['62', '    1', 'Joe Burns', 'AUSTRALIA', '497'], ['63', '    4', 'Asghar Afghan', 'AFGHANISTAN', '487'], ['64', '    4', 'Ibrahim Zadran', 'AFGHANISTAN', '486'], ['65', '    5', 'Kusal Perera', 'SRI LANKA', '485'], ['66', '    9', 'Dominic Sibley', 'ENGLAND', '483'], ['67', '    2', 'Shane Dowrich', 'WEST INDIES', '481'], ['68', '    3', 'Hanuma Vihari', 'INDIA', '480'], ['69', '    3', 'Washington Sundar', 'INDIA', '479'], ['70', '    2', 'Joe Denly', 'ENGLAND', '470'], ['71', '    2', 'Shubman Gill', 'INDIA', '468'], ['72', '    5', 'Jonny Bairstow', 'ENGLAND', '463'], ['73', '    3', 'Roston Chase', 'WEST INDIES', '457'], ['74', '    18', 'Nkrumah Bonner', 'WEST INDIES', '455'], ['75', '    3', 'Zak Crawley', 'ENGLAND', '430'], ['76', '    5', 'Kyle Jamieson', 'NEW ZEALAND', '429'], ['77', '    6', 'Kyle Mayers', 'WEST INDIES', '429'], ['78', '    1', 'Shamarh Brooks', 'WEST INDIES', '428'], ['79', '    3', 'Regis Chakabva', 'ZIMBABWE', '427'], ['80', '    –', 'Shai Hope', 'WEST INDIES', '426'], ['81', '    4', 'Ravichandran Ashwin', 'INDIA', '407'], ['82', '    4', 'Haris Sohail', 'PAKISTAN', '400'], ['83', '    5', 'Hashmatullah Shahidi', 'AFGHANISTAN', '397'], ['84', '    3', 'John Campbell', 'WEST INDIES', '397'], ['85', '    6', 'Sam Curran', 'ENGLAND', '396'], ['86', '    6', 'Darren Bravo', 'WEST INDIES', '384'], ['87', '    7', 'Soumya Sarkar', 'BANGLADESH', '378'], ['88', '    7', 'Rahmat Shah', 'AFGHANISTAN', '377'], ['90', '    7', 'Mitchell Starc', 'AUSTRALIA', '370'], ['91', '    7', 'Cameron Green', 'AUSTRALIA', '368'], ['92', '    7', 'Shadman Islam', 'BANGLADESH', '368'], ['93', '    3', 'Chris Woakes', 'ENGLAND', '365'], ['94', '    1', 'Kieran Powell', 'WEST INDIES', '363'], ['95', '    –', 'Mitchell Santner', 'NEW ZEALAND', '355'], ['96', '    –', 'Moeen Ali', 'ENGLAND', '348'], ['97', '    –', 'Daryl Mitchell', 'NEW ZEALAND', '347'], ['98', '    –', 'Joshua Da Silva', 'WEST INDIES', '345'], ['100', '    –', 'Ben Foakes', 'ENGLAND', '336'], [''], [''], [''], [''], [''], [''], [''], [''], [''], [''], [''], [''], [''], [''], [''], [''], [''], [''], [''], [''], [''], [''], [''], [''], [''], [''], [''], [''], [''], [''], [''], [''], [''], [''], [''], [''], [''], [''], [''], [''], [''], [''], [''], [''], [''], [''], [''], [''], [''], [''], [''], [''], [''], [''], [''], [''], [''], [''], [''], [''], [''], [''], [''], [''], [''], [''], [''], [''], [''], [''], [''], [''], [''], [''], [''], [''], [''], [''], [''], [''], [''], [''], [''], [''], [''], [''], [''], [''], [''], [''], [''], [''], [''], [''], [''], [''], [''], [''], [''], [''], [''], [''], [''], [''], [''], [''], [''], [''], [''], [''], [''], [''], [''], [''], [''], [''], [''], [''], [''], [''], [''], [''], [''], [''], [''], [''], [''], [''], [''], [''], [''], [''], [''], [''], [''], [''], [''], [''], [''], [''], [''], [''], [''], [''], [''], [''], [''], [''], [''], [''], [''], [''], [''], [''], [''], [''], [''], [''], [''], [''], [''], [''], [''], [''], [''], [''], [''], [''], [''], [''], [''], [''], [''], [''], [''], [''], [''], [''], [''], [''], [''], [''], [''], [''], [''], [''], [''], [''], [''], [''], [''], [''], [''], [''], [''], [''], ['']] [['1', '    –', 'Babar Azam', 'PAKISTAN', '873'], ['2', '    –', 'Virat Kohli', 'INDIA', '844'], ['3', '    –', 'Rohit Sharma', 'INDIA', '813'], ['4', '    –', 'Ross Taylor', 'NEW ZEALAND', '801'], ['5', '    –', 'Aaron Finch', 'AUSTRALIA', '779'], ['6', '    –', 'Jonny Bairstow', 'ENGLAND', '775'], ['7', '    –', 'David Warner', 'AUSTRALIA', '762'], ['8', '    2', 'Quinton de Kock', 'SOUTH AFRICA', '758'], ['9', '    1', 'Shai Hope', 'WEST INDIES', '758'], ['10', '    1', 'Kane Williamson', 'NEW ZEALAND', '754'], ['11', '    1', 'Fakhar Zaman', 'PAKISTAN', '741'], ['12', '    1', 'Joe Root', 'ENGLAND', '740'], ['13', '    1', 'Mushfiqur Rahim', 'BANGLADESH', '723'], ['14', '    1', 'Imam-ul-Haq', 'PAKISTAN', '717'], ['15', '    3', 'Martin Guptill', 'NEW ZEALAND', '707'], ['16', '    –', 'Shikhar Dhawan', 'INDIA', '704'], ['17', '    –', 'Steven Smith', 'AUSTRALIA', '696'], ['18', '    1', 'Jason Roy', 'ENGLAND', '687'], ['19', '    2', 'Rassie van der Dussen', 'SOUTH AFRICA', '678'], ['20', '    –', 'Glenn Maxwell', 'AUSTRALIA', '674'], ['21', '    2', 'Tamim Iqbal', 'BANGLADESH', '670'], ['22', '    5', 'Alex Carey', 'AUSTRALIA', '669'], ['23', '    1', 'Paul Stirling', 'IRELAND', '664'], ['24', '    1', 'Ben Stokes', 'ENGLAND', '651'], ['25', '    1', 'Eoin Morgan', 'ENGLAND', '650'], ['26', '    2', 'Shakib Al Hasan', 'BANGLADESH', '641'], ['27', '    2', 'KL Rahul', 'INDIA', '636'], ['28', '    3', 'David Miller', 'SOUTH AFRICA', '632'], ['29', '    3', 'Tom Latham', 'NEW ZEALAND', '624'], ['30', '    3', 'Nicholas Pooran', 'WEST INDIES', '615'], ['31', '    3', 'Jos Buttler', 'ENGLAND', '608'], ['32', '    2', 'Shimron Hetmyer', 'WEST INDIES', '607'], ['33', '    2', 'Haris Sohail', 'PAKISTAN', '594'], ['34', '    2', 'Henry Nicholls', 'NEW ZEALAND', '581'], ['35', '    2', 'Aqib Ilyas', 'OMAN', '578'], ['36', '    2', 'Andrew Balbirnie', 'IRELAND', '575'], ['37', '    2', 'Kyle Coetzer', 'SCOTLAND', '573'], ['38', '    2', 'Brendan Taylor', 'ZIMBABWE', '572'], ['39', '    2', 'Mahmudullah', 'BANGLADESH', '571'], ['40', '    2', 'Kusal Perera', 'SRI LANKA', '560'], ['41', '    3', 'Rahmat Shah', 'AFGHANISTAN', '559'], ['42', '    1', 'Evin Lewis', 'WEST INDIES', '558'], ['43', '    2', 'Liton Das', 'BANGLADESH', '558'], ['44', '    4', 'Sean Williams', 'ZIMBABWE', '553'], ['45', '    1', 'Kedar Jadhav', 'INDIA', '552'], ['46', '    1', 'Angelo Mathews', 'SRI LANKA', '550'], ['47', '    2', 'Hardik Pandya', 'INDIA', '548'], ['48', '    3', 'Sikandar Raza', 'ZIMBABWE', '540'], ['49', '    1', 'Danushka Gunathilaka', 'SRI LANKA', '538'], ['50', '    3', 'Kusal Mendis', 'SRI LANKA', '526'], ['51', '    4', 'Imad Wasim', 'PAKISTAN', '525'], ['52', '    16', 'Avishka Fernando', 'SRI LANKA', '522'], ['53', '    3', 'Soumya Sarkar', 'BANGLADESH', '521'], ['54', '    –', 'Marcus Stoinis', 'AUSTRALIA', '517'], ['55', '    3', 'Calum MacLeod', 'SCOTLAND', '508'], ['56', '    3', 'Colin de Grandhomme', 'NEW ZEALAND', '507'], ['57', '    3', 'Najibullah Zadran', 'AFGHANISTAN', '506'], ['58', '    5', 'Sarfaraz Ahmed', 'PAKISTAN', '504'], ['59', '    3', 'Niroshan Dickwella', 'SRI LANKA', '503'], ['60', '    5', 'Hashmatullah Shahidi', 'AFGHANISTAN', '498'], ['61', '    –', 'Marnus Labuschagne', 'AUSTRALIA', '498'], ['62', '    4', 'James Neesham', 'NEW ZEALAND', '495'], ['63', '    6', 'Mohammad Nabi', 'AFGHANISTAN', '494'], ['64', '    6', 'Mitchell Marsh', 'AUSTRALIA', '489'], ['65', '    6', 'Janneman Malan', 'SOUTH AFRICA', '485'], ['66', '    7', 'Asghar Afghan', 'AFGHANISTAN', '479'], ['67', '    7', 'Richie Berrington', 'SCOTLAND', '479'], ['68', '    7', 'Shreyas Iyer', 'INDIA', '472'], ['69', '    8', 'Mohammad Usman', 'UNITED ARAB EMIRATES', '471'], ['70', '    8', 'William Porterfield', 'IRELAND', '471'], ['71', '    5', 'Dhananjaya de Silva', 'SRI LANKA', '461'], ['72', '    8', 'Mitchell Santner', 'NEW ZEALAND', '460'], ['73', '    8', 'Craig Ervine', 'ZIMBABWE', '457'], ['74', '    9', 'Jason Holder', 'WEST INDIES', '446'], ['75', '    7', 'Aiden Markram', 'SOUTH AFRICA', '445'], ['76', '    9', 'Temba Bavuma', 'SOUTH AFRICA', '443'], ['77', '    9', 'Heinrich Klaasen', 'SOUTH AFRICA', '442'], ['78', '    9', 'Andile Phehlukwayo', 'SOUTH AFRICA', '439'], ['79', '    5', 'Assad Vala', 'PAPUA NEW GUINEA', '439'], ['80', '    8', 'Lahiru Thirimanne', 'SRI LANKA', '436'], ['81', '    9', 'Harry Tector', 'IRELAND', '434'], ['82', '    7', 'Ravindra Jadeja', 'INDIA', '434'], ['83', '    8', 'Mohammad Mithun', 'BANGLADESH', '433'], ['84', '    8', 'Rashid Khan', 'AFGHANISTAN', '432'], ['85', '    8', 'George Munsey', 'SCOTLAND', '430'], ['86', '    9', 'Rishabh Pant', 'INDIA', '426'], ['87', '    –', 'Matthew Wade', 'AUSTRALIA', '424'], ['88', '    8', 'Rovman Powell', 'WEST INDIES', '419'], ['89', '    10', 'Curtis Campher', 'IRELAND', '418'], ['90', '    7', 'Dasun Shanaka', 'SRI LANKA', '418'], ['91', '    7', 'Dinesh Chandimal', 'SRI LANKA', '417'], ['92', '    –', 'Kieron Pollard', 'WEST INDIES', '416'], ['93', '    –', 'Gulbadin Naib', 'AFGHANISTAN', '415'], ['94', '    –', 'Mohammad Rizwan', 'PAKISTAN', '414'], ['95', '    5', 'Tony Ura', 'PAPUA NEW GUINEA', '412'], ['96', '    –', 'Moeen Ali', 'ENGLAND', '404'], ['97', '    –', 'Wanindu Hasaranga', 'SRI LANKA', '403'], ['98', '    –', 'Chris Woakes', 'ENGLAND', '403'], ['99', '    –', 'Simi Singh', 'IRELAND', '402'], ['100', '    –', 'Matthew Cross', 'SCOTLAND', '398']] "
     ]
    },
    {
     "name": "stdout",
     "output_type": "stream",
     "text": [
      "[['1', '    –', 'Dawid Malan', 'ENGLAND', '841'], ['2', '    –', 'Babar Azam', 'PAKISTAN', '819'], ['3', '    1', 'Devon Conway', 'NEW ZEALAND', '774'], ['4', '    1', 'Aaron Finch', 'AUSTRALIA', '733'], ['5', '    –', 'Virat Kohli', 'INDIA', '717'], ['6', '    –', 'KL Rahul', 'INDIA', '699'], ['7', '    –', 'Mohammad Rizwan', 'PAKISTAN', '692'], ['8', '    1', 'Martin Guptill', 'NEW ZEALAND', '688'], ['9', '    1', 'Evin Lewis', 'WEST INDIES', '664'], ['10', '    –', 'Rassie van der Dussen', 'SOUTH AFRICA', '650'], ['11', '    –', 'Hazratullah Zazai', 'AFGHANISTAN', '636'], ['12', '    1', 'Quinton de Kock', 'SOUTH AFRICA', '609'], ['13', '    3', 'Eoin Morgan', 'ENGLAND', '599'], ['14', '    3', 'Jason Roy', 'ENGLAND', '592'], ['15', '    3', 'Colin Munro', 'NEW ZEALAND', '592'], ['16', '    3', 'Jos Buttler', 'ENGLAND', '590'], ['17', '    3', 'Jonny Bairstow', 'ENGLAND', '588'], ['18', '    3', 'George Munsey', 'SCOTLAND', '583'], ['19', '    5', 'Rohit Sharma', 'INDIA', '577'], ['20', '    2', 'Rahmanullah Gurbaz', 'AFGHANISTAN', '576'], ['21', '    16', 'Mitchell Marsh', 'AUSTRALIA', '575'], ['22', '    1', 'Tim Seifert', 'NEW ZEALAND', '573'], ['23', '    11', 'Glenn Maxwell', 'AUSTRALIA', '567'], ['24', '    –', 'Paul Stirling', 'IRELAND', '566'], ['25', '    10', 'Aiden Markram', 'SOUTH AFRICA', '563'], ['26', '    –', 'Glenn Phillips', 'NEW ZEALAND', '544'], ['28', '    –', 'Richie Berrington', 'SCOTLAND', '542'], ['29', '    –', 'Mohammad Naim', 'BANGLADESH', '536'], ['30', '    2', 'Reeza Hendricks', 'SOUTH AFRICA', '526'], ['31', '    3', 'Shikhar Dhawan', 'INDIA', '526'], ['32', '    1', 'Mohammad Nabi', 'AFGHANISTAN', '523'], ['33', '    9', 'David Miller', 'SOUTH AFRICA', '518'], ['34', '    1', 'Mahmudullah', 'BANGLADESH', '518'], ['35', '    10', 'Shreyas Iyer', 'INDIA', '516'], ['36', '    1', 'Kane Williamson', 'NEW ZEALAND', '512'], ['37', '    1', 'Kyle Coetzer', 'SCOTLAND', '511'], ['38', '    –', 'Andrew Balbirnie', 'IRELAND', '505'], ['39', '    1', 'Tony Ura', 'PAPUA NEW GUINEA', '503'], ['40', '    5', 'Ben Cooper', 'NETHERLANDS', '493'], ['41', '    5', 'Najibullah Zadran', 'AFGHANISTAN', '492'], ['42', '    5', 'Max ODowd', 'NETHERLANDS', '491'], ['43', '    2', 'Kevin O Brien', 'IRELAND', '491'], ['44', '    1', 'Soumya Sarkar', 'BANGLADESH', '483'], ['45', '    3', 'Calum MacLeod', 'SCOTLAND', '483'], ['46', '    3', 'Jatinder Singh', 'OMAN', '482'], ['47', '    3', 'Fakhar Zaman', 'PAKISTAN', '481'], ['48', '    16', 'Nicholas Pooran', 'WEST INDIES', '481'], ['49', '    10', 'Kusal Perera', 'SRI LANKA', '478'], ['50', '    17', 'Suryakumar Yadav', 'INDIA', '477'], ['51', '    1', 'Matthew Cross', 'SCOTLAND', '474'], ['52', '    –', 'Asghar Afghan', 'AFGHANISTAN', '472'], ['53', '    9', 'Shakib Al Hasan', 'BANGLADESH', '469'], ['54', '    –', 'Mohammad Usman', 'UNITED ARAB EMIRATES', '458'], ['55', '    –', 'Tim David', 'SINGAPORE', '457'], ['56', '    26', 'Liton Das', 'BANGLADESH', '449'], ['57', '    4', 'Mohammad Hafeez', 'PAKISTAN', '446'], ['58', '    1', 'Kamran Khan', 'QATAR', '445'], ['59', '    8', 'Lendl Simmons', 'WEST INDIES', '443'], ['60', '    1', 'Kushal Bhurtel', 'NEPAL', '442'], ['61', '    2', 'Ravija Sandaruwan', 'KUWAIT', '435'], ['62', '    4', 'Collins Obuya', 'KENYA', '429'], ['63', '    7', 'Danushka Gunathilaka', 'SRI LANKA', '423'], ['64', '    6', 'Gerhard Erasmus', 'NAMIBIA', '421'], ['66', '    1', 'Faf du Plessis', 'SOUTH AFRICA', '417'], ['67', '    1', 'Kieron Pollard', 'WEST INDIES', '417'], ['68', '    24', 'Temba Bavuma', 'SOUTH AFRICA', '411'], ['69', '    6', 'Nizakat Khan', 'HONG KONG', '405'], ['70', '    13', 'D Arcy Short', 'AUSTRALIA', '404'], ['71', '    11', 'David Warner', 'AUSTRALIA', '401'], ['72', '    –', 'Shimron Hetmyer', 'WEST INDIES', '401'], ['73', '    6', 'Zeeshan Maqsood', 'OMAN', '398'], ['74', '    3', 'Sean Williams', 'ZIMBABWE', '396'], ['75', '    6', 'Rakep Patel', 'KENYA', '394'], ['76', '    2', 'Heinrich Klaasen', 'SOUTH AFRICA', '393'], ['77', '    –', 'Gareth Delany', 'IRELAND', '388'], ['78', '    6', 'Ross Taylor', 'NEW ZEALAND', '388'], ['79', '    6', 'Finn Allen', 'NEW ZEALAND', '384'], ['80', '    6', 'Rishabh Pant', 'INDIA', '383'], ['81', '    5', 'Muhammad Tanveer', 'QATAR', '382'], ['82', '    24', 'Tamim Iqbal', 'BANGLADESH', '381'], ['83', '    10', 'Matthew Wade', 'AUSTRALIA', '378'], ['84', '    4', 'Navneet Dhaliwal', 'CANADA', '375'], ['85', '    5', 'Kusal Mendis', 'SRI LANKA', '373'], ['86', '    3', 'Rohan Mustafa', 'UNITED ARAB EMIRATES', '370'], ['87', '    3', 'Usman Ghani', 'AFGHANISTAN', '367'], ['88', '    –', 'Ryan Burl', 'ZIMBABWE', '366'], ['89', '    6', 'Harry Tector', 'IRELAND', '365'], ['90', '    1', 'Paras Khadka', 'NEPAL', '362'], ['91', '    2', 'Khawar Ali', 'OMAN', '360'], ['92', '    23', 'Mushfiqur Rahim', 'BANGLADESH', '359'], ['93', '    1', 'Ryan ten Doeschate', 'NETHERLANDS', '358'], ['94', '    1', 'Gyanendra Malla', 'NEPAL', '357'], ['95', '    1', 'Nitish Kumar', 'CANADA', '356'], ['96', '    9', 'Manish Pandey', 'INDIA', '354'], ['97', '    15', 'Steven Smith', 'AUSTRALIA', '352'], ['99', '    23', 'Sabbir Rahman', 'BANGLADESH', '345'], ['100', '    1', 'Samiullah Shinwari', 'AFGHANISTAN', '344']]     Position              Player      Country  Rating\n",
      "0          1     Kane Williamson  NEW ZEALAND     901\n",
      "1          2            Joe Root      ENGLAND     893\n",
      "2          3        Steven Smith    AUSTRALIA     891\n",
      "3          4  Marnus Labuschagne    AUSTRALIA     878\n",
      "4          5         Virat Kohli        INDIA     776\n",
      "..       ...                 ...          ...     ...\n",
      "93        95    Mitchell Santner  NEW ZEALAND     355\n",
      "94        96           Moeen Ali      ENGLAND     348\n",
      "95        97      Daryl Mitchell  NEW ZEALAND     347\n",
      "96        98     Joshua Da Silva  WEST INDIES     345\n",
      "97       100          Ben Foakes      ENGLAND     336\n",
      "\n",
      "[98 rows x 4 columns]\n"
     ]
    }
   ],
   "source": [
    "#************************#Batting_.xl\n",
    "\n",
    "driv=r\"C:\\Users\\Merit\\Downloads\\chromedriver_win32 (1)\\chromedriver.exe\"\n",
    "driver = webdriver.Chrome(executable_path=driv)\n",
    "driver.get(\"https://www.cricbuzz.com/cricket-stats/icc-rankings/men/batting\")\n",
    "\n",
    "\n",
    "\n",
    "driver.find_element_by_xpath(\"//a[@id='batsmen-tests-tab']\").click()\n",
    "a=driver.find_elements_by_xpath(\"//a[@id='batsmen-tests-tab']//following::div[contains(@class,'cb-col cb-col-100 cb-font-14 cb-lst-itm text-center')]\")\n",
    "l=[]\n",
    "for i in a:\n",
    "    l.append(i.text.split(\"\\n\"))\n",
    "print(l,end=\" \")\n",
    "driver.find_element_by_xpath(\"//a[@id='batsmen-odis-tab']\").click()\n",
    "c=driver.find_elements_by_xpath(\"//a[@id='batsmen-odis-tab']//following::div[contains(@class,'cb-col cb-col-100 cb-font-14 cb-lst-itm text-center')]\")\n",
    "l1=[]\n",
    "for j in c:\n",
    "    if j.text!='':\n",
    "        l1.append(j.text.split(\"\\n\"))\n",
    "print(l1,end=\" \")\n",
    "driver.find_element_by_xpath(\"//a[@id='batsmen-t20s-tab']\").click()\n",
    "d=driver.find_elements_by_xpath(\"//a[@id='batsmen-t20s-tab']//following::div[contains(@class,'cb-col cb-col-100 cb-font-14 cb-lst-itm text-center')]\")\n",
    "l2=[]\n",
    "for k in d:\n",
    "    if k.text!='':\n",
    "        l2.append(k.text.split(\"\\n\"))\n",
    "print(l2,end=\" \")\n",
    "# dataframe\n",
    "\n",
    "\n",
    "writer = pd.ExcelWriter('Batting_.xlsx', engine='xlsxwriter')\n",
    "df = pd.DataFrame(l, columns = [\"Position\",\"NAN\",\"Player\",\"Country\",\"Rating\"])\n",
    "df1 = pd.DataFrame(l1, columns = [\"Position\",\"NAN\",\"Player\",\"Country\",\"Rating\"])\n",
    "df2 = pd.DataFrame(l2, columns = [\"Position\",\"NAN\",\"Player\",\"Country\",\"Rating\"])\n",
    "df2.drop(columns='NAN',axis=\"columns\",inplace=True)\n",
    "df1.drop(columns='NAN',axis=\"columns\",inplace=True)\n",
    "df.drop(columns='NAN',axis=\"columns\",inplace=True)\n",
    "time.sleep(2)\n",
    "\n",
    "writer.save()\n",
    "\n",
    "writer = pd.ExcelWriter('Batting_.xlsx', engine='xlsxwriter')\n",
    "\n",
    "df.to_excel(writer, sheet_name='Batting-TEST', index=False)\n",
    "df1.to_excel(writer,sheet_name='Batting-ODI', index=False)\n",
    "df2.to_excel(writer,sheet_name='Batting-T20', index=False)\n",
    "\n",
    "writer.save()\n",
    "reader = pd.read_excel(r'Batting_.xlsx')\n",
    "print(reader)\n",
    "df.to_excel(writer,index=False,header=False)\n",
    "df1.to_excel(writer,index=False,header=False)\n",
    "df2.to_excel(writer,index=False,header=False)"
   ]
  },
  {
   "cell_type": "code",
   "execution_count": 8,
   "id": "34329ad0",
   "metadata": {},
   "outputs": [
    {
     "data": {
      "text/plain": [
       "'C:\\\\Users\\\\Merit'"
      ]
     },
     "execution_count": 8,
     "metadata": {},
     "output_type": "execute_result"
    }
   ],
   "source": [
    "os.getcwd()"
   ]
  },
  {
   "cell_type": "code",
   "execution_count": 15,
   "id": "e03689e3",
   "metadata": {},
   "outputs": [
    {
     "name": "stdout",
     "output_type": "stream",
     "text": [
      "[['1', '    –', 'Pat Cummins', 'AUSTRALIA', '908'], ['2', '    –', 'Ravichandran Ashwin', 'INDIA', '848'], ['3', '    –', 'Tim Southee', 'NEW ZEALAND', '824'], ['4', '    –', 'Josh Hazlewood', 'AUSTRALIA', '816'], ['5', '    –', 'Neil Wagner', 'NEW ZEALAND', '810'], ['6', '    2', 'James Anderson', 'ENGLAND', '800'], ['7', '    1', 'Kagiso Rabada', 'SOUTH AFRICA', '798'], ['8', '    1', 'Stuart Broad', 'ENGLAND', '764'], ['9', '    1', 'Jason Holder', 'WEST INDIES', '756'], ['10', '    9', 'Jasprit Bumrah', 'INDIA', '754'], ['11', '    1', 'Kemar Roach', 'WEST INDIES', '751'], ['12', '    3', 'Mitchell Starc', 'AUSTRALIA', '744'], ['13', '    2', 'Trent Boult', 'NEW ZEALAND', '738'], ['14', '    1', 'Kyle Jamieson', 'NEW ZEALAND', '725'], ['15', '    1', 'Hasan Ali', 'PAKISTAN', '723'], ['16', '    –', 'Ishant Sharma', 'INDIA', '717'], ['17', '    2', 'Mohammad Abbas', 'PAKISTAN', '709'], ['18', '    4', 'Shaheen Afridi', 'PAKISTAN', '699'], ['19', '    1', 'Mohammed Shami', 'INDIA', '676'], ['20', '    –', 'Nathan Lyon', 'AUSTRALIA', '668'], ['21', '    4', 'Ravindra Jadeja', 'INDIA', '645'], ['22', '    1', 'Suranga Lakmal', 'SRI LANKA', '635'], ['23', '    1', 'Mehidy Hasan', 'BANGLADESH', '610'], ['24', '    2', 'Shakib Al Hasan', 'BANGLADESH', '605'], ['25', '    2', 'Taijul Islam', 'BANGLADESH', '605'], ['26', '    3', 'Chris Woakes', 'ENGLAND', '602'], ['27', '    2', 'Shannon Gabriel', 'WEST INDIES', '600'], ['28', '    –', 'Keshav Maharaj', 'SOUTH AFRICA', '593'], ['29', '    1', 'Umesh Yadav', 'INDIA', '579'], ['30', '    1', 'Yasir Shah', 'PAKISTAN', '573'], ['31', '    –', 'Anrich Nortje', 'SOUTH AFRICA', '564'], ['32', '    3', 'Rashid Khan', 'AFGHANISTAN', '543'], ['33', '    1', 'Jack Leach', 'ENGLAND', '543'], ['34', '    –', 'Axar Patel', 'INDIA', '536'], ['35', '    2', 'Ben Stokes', 'ENGLAND', '536'], ['36', '    –', 'Moeen Ali', 'ENGLAND', '495'], ['37', '    5', 'Mark Wood', 'ENGLAND', '477'], ['38', '    14', 'Mohammed Siraj', 'INDIA', '465'], ['39', '    2', 'Dilruwan Perera', 'SRI LANKA', '459'], ['40', '    2', 'Lahiru Kumara', 'SRI LANKA', '459'], ['41', '    2', 'Lasith Embuldeniya', 'SRI LANKA', '444'], ['42', '    2', 'Lungi Ngidi', 'SOUTH AFRICA', '436'], ['43', '    –', 'Colin de Grandhomme', 'NEW ZEALAND', '424'], ['44', '    3', 'Roston Chase', 'WEST INDIES', '423'], ['46', '    1', 'Blessing Muzarabani', 'ZIMBABWE', '391'], ['47', '    2', 'Vishwa Fernando', 'SRI LANKA', '388'], ['48', '    2', 'Nauman Ali', 'PAKISTAN', '387'], ['49', '    4', 'Jofra Archer', 'ENGLAND', '383'], ['50', '    2', 'Dominic Bess', 'ENGLAND', '381'], ['51', '    –', 'Praveen Jayawickrama', 'SRI LANKA', '380'], ['52', '    1', 'Kyle Mayers', 'WEST INDIES', '374'], ['53', '    1', 'Nayeem Hasan', 'BANGLADESH', '366'], ['54', '    1', 'Amir Hamza', 'AFGHANISTAN', '364'], ['55', '    25', 'Shardul Thakur', 'INDIA', '357'], ['56', '    6', 'Sam Curran', 'ENGLAND', '350'], ['57', '    1', 'Kuldeep Yadav', 'INDIA', '348'], ['59', '    1', 'Wiaan Mulder', 'SOUTH AFRICA', '333'], ['60', '    3', 'Rahkeem Cornwall', 'WEST INDIES', '331'], ['61', '    1', 'Jubair Hossain', 'BANGLADESH', '326'], ['62', '    1', 'Abu Jayed', 'BANGLADESH', '323'], ['63', '    1', 'Ajaz Patel', 'NEW ZEALAND', '320'], ['64', '    1', 'Sikandar Raza', 'ZIMBABWE', '315'], ['65', '    1', 'Matt Henry', 'NEW ZEALAND', '304'], ['66', '    1', 'Alzarri Joseph', 'WEST INDIES', '299'], ['67', '    2', 'Olly Stone', 'ENGLAND', '289'], ['68', '    3', 'Kasun Rajitha', 'SRI LANKA', '288'], ['69', '    1', 'Jomel Warrican', 'WEST INDIES', '281'], ['70', '    2', 'Mustafizur Rahman', 'BANGLADESH', '276'], ['71', '    10', 'Faheem Ashraf', 'PAKISTAN', '271'], ['72', '    3', 'Yamin Ahmadzai', 'AFGHANISTAN', '260'], ['73', '    3', 'Dushmantha Chameera', 'SRI LANKA', '248'], ['74', '    3', 'Donald Tiripano', 'ZIMBABWE', '248'], ['75', '    3', 'Victor Nyauchi', 'ZIMBABWE', '247'], ['76', '    3', 'Naseem Shah', 'PAKISTAN', '244'], ['77', '    5', 'Mitchell Santner', 'NEW ZEALAND', '237'], ['78', '    5', 'Haris Sohail', 'PAKISTAN', '225'], ['79', '    6', 'George Linde', 'SOUTH AFRICA', '222'], ['80', '    8', 'Dasun Shanaka', 'SRI LANKA', '210'], ['81', '    8', 'Taskin Ahmed', 'BANGLADESH', '206'], ['82', '    8', 'Mahmudullah', 'BANGLADESH', '205'], ['83', '    3', 'Joe Root', 'ENGLAND', '202'], ['84', '    7', 'Ramesh Mendis', 'SRI LANKA', '197'], ['85', '    7', 'Shadab Khan', 'PAKISTAN', '185'], ['86', '    7', 'Sean Williams', 'ZIMBABWE', '181'], ['87', '    8', 'Shahbaz Nadeem', 'INDIA', '168'], ['88', '    8', 'Dhananjaya de Silva', 'SRI LANKA', '161'], ['89', '    10', 'Kraigg Brathwaite', 'WEST INDIES', '133'], ['90', '    10', 'Ryan Burl', 'ZIMBABWE', '132'], ['91', '    –', 'Zahir Khan', 'AFGHANISTAN', '128'], ['92', '    –', 'Angelo Mathews', 'SRI LANKA', '123'], ['93', '    –', 'Rubel Hossain', 'BANGLADESH', '122'], ['94', '    –', 'Marnus Labuschagne', 'AUSTRALIA', '122'], ['95', '    –', 'Kane Williamson', 'NEW ZEALAND', '116'], ['96', '    –', 'Washington Sundar', 'INDIA', '107'], ['97', '    –', 'Dean Elgar', 'SOUTH AFRICA', '102'], ['98', '    –', 'Tendai Chisoro', 'ZIMBABWE', '88'], ['99', '    –', 'Navdeep Saini', 'INDIA', '86'], [''], [''], [''], [''], [''], [''], [''], [''], [''], [''], [''], [''], [''], [''], [''], [''], [''], [''], [''], [''], [''], [''], [''], [''], [''], [''], [''], [''], [''], [''], [''], [''], [''], [''], [''], [''], [''], [''], [''], [''], [''], [''], [''], [''], [''], [''], [''], [''], [''], [''], [''], [''], [''], [''], [''], [''], [''], [''], [''], [''], [''], [''], [''], [''], [''], [''], [''], [''], [''], [''], [''], [''], [''], [''], [''], [''], [''], [''], [''], [''], [''], [''], [''], [''], [''], [''], [''], [''], [''], [''], [''], [''], [''], [''], [''], [''], [''], [''], [''], [''], [''], [''], [''], [''], [''], [''], [''], [''], [''], [''], [''], [''], [''], [''], [''], [''], [''], [''], [''], [''], [''], [''], [''], [''], [''], [''], [''], [''], [''], [''], [''], [''], [''], [''], [''], [''], [''], [''], [''], [''], [''], [''], [''], [''], [''], [''], [''], [''], [''], [''], [''], [''], [''], [''], [''], [''], [''], [''], [''], [''], [''], [''], [''], [''], [''], [''], [''], [''], [''], [''], [''], [''], [''], [''], [''], [''], [''], [''], [''], [''], [''], [''], [''], [''], [''], [''], [''], [''], [''], [''], [''], ['']] [['1', '    –', 'Trent Boult', 'NEW ZEALAND', '737'], ['2', '    5', 'Josh Hazlewood', 'AUSTRALIA', '709'], ['3', '    1', 'Mujeeb Ur Rahman', 'AFGHANISTAN', '708'], ['4', '    1', 'Chris Woakes', 'ENGLAND', '700'], ['5', '    1', 'Mehidy Hasan', 'BANGLADESH', '692'], ['6', '    1', 'Matt Henry', 'NEW ZEALAND', '691'], ['7', '    1', 'Jasprit Bumrah', 'INDIA', '679'], ['8', '    10', 'Mitchell Starc', 'AUSTRALIA', '652'], ['9', '    1', 'Shakib Al Hasan', 'BANGLADESH', '650'], ['10', '    1', 'Kagiso Rabada', 'SOUTH AFRICA', '648'], ['11', '    –', 'Mustafizur Rahman', 'BANGLADESH', '640'], ['12', '    2', 'Pat Cummins', 'AUSTRALIA', '636'], ['13', '    1', 'Shaheen Afridi', 'PAKISTAN', '630'], ['14', '    1', 'Mohammad Amir', 'PAKISTAN', '628'], ['15', '    1', 'Rashid Khan', 'AFGHANISTAN', '626'], ['16', '    –', 'Adam Zampa', 'AUSTRALIA', '625'], ['17', '    2', 'Bhuvneshwar Kumar', 'INDIA', '621'], ['18', '    1', 'Lockie Ferguson', 'NEW ZEALAND', '619'], ['19', '    –', 'Jofra Archer', 'ENGLAND', '609'], ['20', '    5', 'Akila Dananjaya', 'SRI LANKA', '604'], ['21', '    1', 'Yuzvendra Chahal', 'INDIA', '603'], ['22', '    1', 'Lungi Ngidi', 'SOUTH AFRICA', '599'], ['23', '    1', 'Mohammad Nabi', 'AFGHANISTAN', '596'], ['24', '    1', 'Mark Wood', 'ENGLAND', '594'], ['25', '    2', 'Alzarri Joseph', 'WEST INDIES', '592'], ['26', '    2', 'Mitchell Santner', 'NEW ZEALAND', '583'], ['27', '    1', 'Mohammed Shami', 'INDIA', '566'], ['28', '    –', 'Kuldeep Yadav', 'INDIA', '562'], ['29', '    1', 'Ravindra Jadeja', 'INDIA', '550'], ['30', '    1', 'Sheldon Cottrell', 'WEST INDIES', '541'], ['31', '    –', 'Ahmed Raza', 'UNITED ARAB EMIRATES', '531'], ['32', '    1', 'Andy McBrine', 'IRELAND', '527'], ['33', '    1', 'Shadab Khan', 'PAKISTAN', '517'], ['34', '    1', 'Dushmantha Chameera', 'SRI LANKA', '514'], ['35', '    1', 'Wanindu Hasaranga', 'SRI LANKA', '508'], ['36', '    2', 'Colin de Grandhomme', 'NEW ZEALAND', '508'], ['37', '    2', 'Tabraiz Shamsi', 'SOUTH AFRICA', '501'], ['38', '    2', 'David Willey', 'ENGLAND', '501'], ['39', '    2', 'Tim Southee', 'NEW ZEALAND', '500'], ['40', '    2', 'Andile Phehlukwayo', 'SOUTH AFRICA', '497'], ['41', '    2', 'Adil Rashid', 'ENGLAND', '497'], ['42', '    2', 'Ish Sodhi', 'NEW ZEALAND', '496'], ['43', '    2', 'Mark Watt', 'SCOTLAND', '490'], ['44', '    3', 'Imad Wasim', 'PAKISTAN', '488'], ['45', '    3', 'Hasan Ali', 'PAKISTAN', '483'], ['46', '    3', 'Usman Shinwari', 'PAKISTAN', '482'], ['47', '    1', 'Jhye Richardson', 'AUSTRALIA', '480'], ['48', '    2', 'Rohan Mustafa', 'UNITED ARAB EMIRATES', '477'], ['49', '    2', 'Simi Singh', 'IRELAND', '473'], ['50', '    3', 'Mashrafe Mortaza', 'BANGLADESH', '469'], ['51', '    3', 'Mohammad Saifuddin', 'BANGLADESH', '468'], ['52', '    3', 'Safyaan Sharif', 'SCOTLAND', '467'], ['53', '    3', 'Tendai Chatara', 'ZIMBABWE', '465'], ['54', '    4', 'Nuwan Pradeep', 'SRI LANKA', '459'], ['55', '    5', 'James Neesham', 'NEW ZEALAND', '458'], ['57', '    –', 'Jason Holder', 'WEST INDIES', '451'], ['58', '    6', 'Moeen Ali', 'ENGLAND', '449'], ['59', '    6', 'Wahab Riaz', 'PAKISTAN', '447'], ['60', '    6', 'Faheem Ashraf', 'PAKISTAN', '445'], ['62', '    5', 'Suranga Lakmal', 'SRI LANKA', '443'], ['63', '    6', 'Sikandar Raza', 'ZIMBABWE', '440'], ['64', '    6', 'Blessing Muzarabani', 'ZIMBABWE', '437'], ['65', '    6', 'Tom Curran', 'ENGLAND', '436'], ['66', '    32', 'Ashton Agar', 'AUSTRALIA', '436'], ['67', '    5', 'Taskin Ahmed', 'BANGLADESH', '434'], ['68', '    5', 'Anrich Nortje', 'SOUTH AFRICA', '431'], ['69', '    7', 'Josh Davey', 'SCOTLAND', '427'], ['71', '    9', 'Craig Young', 'IRELAND', '421'], ['72', '    9', 'Sean Williams', 'ZIMBABWE', '420'], ['73', '    4', 'Kane Richardson', 'AUSTRALIA', '416'], ['74', '    10', 'Ben Stokes', 'ENGLAND', '410'], ['75', '    10', 'Shardul Thakur', 'INDIA', '405'], ['76', '    11', 'Rubel Hossain', 'BANGLADESH', '400'], ['77', '    12', 'Gulbadin Naib', 'AFGHANISTAN', '399'], ['78', '    8', 'Hardik Pandya', 'INDIA', '394'], ['79', '    12', 'Alasdair Evans', 'SCOTLAND', '394'], ['80', '    12', 'Keshav Maharaj', 'SOUTH AFRICA', '394'], ['81', '    12', 'Barry McCarthy', 'IRELAND', '391'], ['82', '    8', 'Mitchell Marsh', 'AUSTRALIA', '390'], ['83', '    5', 'Dhananjaya de Silva', 'SRI LANKA', '388'], ['84', '    12', 'Marcus Stoinis', 'AUSTRALIA', '377'], ['85', '    12', 'Lakshan Sandakan', 'SRI LANKA', '376'], ['86', '    13', 'Taijul Islam', 'BANGLADESH', '374'], ['87', '    13', 'Mohammad Nawaz', 'PAKISTAN', '370'], ['88', '    –', 'Donald Tiripano', 'ZIMBABWE', '367'], ['89', '    –', 'Assad Vala', 'PAPUA NEW GUINEA', '361'], ['90', '    –', 'Fred Klaassen', 'NETHERLANDS', '358'], ['91', '    –', 'George Dockrell', 'IRELAND', '357'], ['92', '    –', 'Oshane Thomas', 'WEST INDIES', '355'], ['93', '    –', 'Kyle Jamieson', 'NEW ZEALAND', '352'], ['94', '    –', 'Michael Leask', 'SCOTLAND', '351'], ['95', '    –', 'Zeeshan Maqsood', 'OMAN', '350'], ['96', '    –', 'Sharafuddin Ashraf', 'AFGHANISTAN', '347'], ['97', '    –', 'Roston Chase', 'WEST INDIES', '347'], ['98', '    –', 'Bilal Khan', 'OMAN', '344'], ['99', '    –', 'Saurabh Netravalkar', 'UNITED STATES', '343'], ['100', '    –', 'Norman Vanua', 'PAPUA NEW GUINEA', '342']] "
     ]
    },
    {
     "name": "stdout",
     "output_type": "stream",
     "text": [
      "[['1', '    –', 'Tabraiz Shamsi', 'SOUTH AFRICA', '792'], ['2', '    1', 'Wanindu Hasaranga', 'SRI LANKA', '764'], ['3', '    1', 'Rashid Khan', 'AFGHANISTAN', '719'], ['4', '    –', 'Adil Rashid', 'ENGLAND', '689'], ['5', '    –', 'Mujeeb Ur Rahman', 'AFGHANISTAN', '687'], ['6', '    –', 'Tim Southee', 'NEW ZEALAND', '669'], ['7', '    1', 'Ashton Agar', 'AUSTRALIA', '649'], ['8', '    1', 'Adam Zampa', 'AUSTRALIA', '648'], ['9', '    –', 'Ish Sodhi', 'NEW ZEALAND', '640'], ['10', '    30', 'Mustafizur Rahman', 'BANGLADESH', '619'], ['11', '    –', 'Mitchell Santner', 'NEW ZEALAND', '616'], ['12', '    10', 'Shakib Al Hasan', 'BANGLADESH', '610'], ['13', '    2', 'Mark Watt', 'SCOTLAND', '595'], ['14', '    6', 'Bhuvneshwar Kumar', 'INDIA', '594'], ['15', '    2', 'Chris Jordan', 'ENGLAND', '579'], ['16', '    4', 'Lakshan Sandakan', 'SRI LANKA', '574'], ['17', '    7', 'Fabian Allen', 'WEST INDIES', '572'], ['18', '    –', 'Mark Wood', 'ENGLAND', '563'], ['19', '    5', 'Washington Sundar', 'INDIA', '562'], ['20', '    22', 'Dushmantha Chameera', 'SRI LANKA', '555'], ['21', '    –', 'Mohammad Nabi', 'AFGHANISTAN', '546'], ['22', '    6', 'Sheldon Cottrell', 'WEST INDIES', '546'], ['23', '    10', 'Shaheen Afridi', 'PAKISTAN', '543'], ['24', '    7', 'Yuzvendra Chahal', 'INDIA', '529'], ['25', '    1', 'Alasdair Evans', 'SCOTLAND', '529'], ['26', '    1', 'Karim Janat', 'AFGHANISTAN', '527'], ['27', '    8', 'George Linde', 'SOUTH AFRICA', '524'], ['28', '    41', 'Blessing Muzarabani', 'ZIMBABWE', '522'], ['29', '    –', 'Bilal Khan', 'OMAN', '521'], ['30', '    2', 'Lockie Ferguson', 'NEW ZEALAND', '515'], ['31', '    8', 'Shardul Thakur', 'INDIA', '508'], ['33', '    8', 'Jasprit Bumrah', 'INDIA', '504'], ['34', '    –', 'Josh Hazlewood', 'AUSTRALIA', '502'], ['35', '    16', 'Kane Richardson', 'AUSTRALIA', '501'], ['36', '    19', 'Akila Dananjaya', 'SRI LANKA', '501'], ['37', '    13', 'Faheem Ashraf', 'PAKISTAN', '498'], ['38', '    1', 'Deepak Chahar', 'INDIA', '497'], ['39', '    1', 'Jofra Archer', 'ENGLAND', '495'], ['40', '    4', 'Mark Adair', 'IRELAND', '495'], ['41', '    2', 'Lungi Ngidi', 'SOUTH AFRICA', '487'], ['42', '    14', 'Imad Wasim', 'PAKISTAN', '484'], ['43', '    41', 'Mohammad Saifuddin', 'BANGLADESH', '479'], ['44', '    7', 'Shadab Khan', 'PAKISTAN', '478'], ['45', '    3', 'Trent Boult', 'NEW ZEALAND', '473'], ['46', '    13', 'Mitchell Starc', 'AUSTRALIA', '472'], ['47', '    2', 'Tom Curran', 'ENGLAND', '468'], ['48', '    2', 'David Willey', 'ENGLAND', '468'], ['49', '    19', 'Haris Rauf', 'PAKISTAN', '467'], ['50', '    4', 'Dwayne Bravo', 'WEST INDIES', '467'], ['51', '    –', 'Safyaan Sharif', 'SCOTLAND', '466'], ['52', '    –', 'Ahmed Raza', 'UNITED ARAB EMIRATES', '463'], ['53', '    –', 'Roelof van der Merwe', 'NETHERLANDS', '463'], ['54', '    –', 'Sam Curran', 'ENGLAND', '462'], ['55', '    15', 'Jason Holder', 'WEST INDIES', '456'], ['56', '    1', 'Paul van Meekeren', 'NETHERLANDS', '454'], ['57', '    18', 'Beuran Hendricks', 'SOUTH AFRICA', '453'], ['58', '    –', 'Bernard Scholtz', 'NAMIBIA', '452'], ['59', '    15', 'Lasith Malinga', 'SRI LANKA', '450'], ['60', '    1', 'Brandon Glover', 'NETHERLANDS', '449'], ['61', '    5', 'Andile Phehlukwayo', 'SOUTH AFRICA', '449'], ['62', '    21', 'Mohammad Hasnain', 'PAKISTAN', '446'], ['63', '    1', 'Hasan Ali', 'PAKISTAN', '446'], ['64', '    3', 'Shem Obado', 'KENYA', '444'], ['65', '    2', 'Khawar Ali', 'OMAN', '442'], ['67', '    22', 'Mohammad Nawaz', 'PAKISTAN', '440'], ['68', '    3', 'Norman Vanua', 'PAPUA NEW GUINEA', '437'], ['70', '    3', 'Pieter Seelaar', 'NETHERLANDS', '436'], ['71', '    6', 'Andrew Tye', 'AUSTRALIA', '428'], ['72', '    1', 'Mohammad Nadeem', 'OMAN', '420'], ['73', '    17', 'Simi Singh', 'IRELAND', '414'], ['74', '    2', 'Rohan Mustafa', 'UNITED ARAB EMIRATES', '412'], ['75', '    –', 'Wellington Masakadza', 'ZIMBABWE', '410'], ['77', '    2', 'Sandeep Lamichhane', 'NEPAL', '405'], ['78', '    2', 'Sultan Ahmed', 'UNITED ARAB EMIRATES', '405'], ['79', '    8', 'Kagiso Rabada', 'SOUTH AFRICA', '404'], ['80', '    20', 'Pat Cummins', 'AUSTRALIA', '403'], ['81', '    1', 'Josh Davey', 'SCOTLAND', '403'], ['82', '    8', 'Kuldeep Yadav', 'INDIA', '399'], ['83', '    –', 'Hardik Pandya', 'INDIA', '393'], ['84', '    4', 'Krunal Pandya', 'INDIA', '390'], ['85', '    7', 'Gareth Delany', 'IRELAND', '389'], ['86', '    1', 'Timm van der Gugten', 'NETHERLANDS', '389'], ['87', '    6', 'Isuru Udana', 'SRI LANKA', '389'], ['88', '    2', 'Zahoor Khan', 'UNITED ARAB EMIRATES', '386'], ['89', '    –', 'Fred Klaassen', 'NETHERLANDS', '383'], ['90', '    1', 'Charles Amini', 'PAPUA NEW GUINEA', '381'], ['91', '    19', 'Billy Stanlake', 'AUSTRALIA', '379'], ['93', '    1', 'Naveen-ul-Haq', 'AFGHANISTAN', '378'], ['94', '    32', 'Al-Amin Hossain', 'BANGLADESH', '378'], ['95', '    1', 'Hamza Tahir', 'SCOTLAND', '373'], ['96', '    28', 'Usman Qadir', 'PAKISTAN', '371'], ['97', '    2', 'Ehsan Khan', 'HONG KONG', '371'], ['98', '    11', 'Anrich Nortje', 'SOUTH AFRICA', '370'], ['99', '    3', 'Nosaina Pokana', 'PAPUA NEW GUINEA', '367'], ['100', '    1', 'Ben Stokes', 'ENGLAND', '362']]     Position               Player       Country  Rating\n",
      "0          1          Pat Cummins     AUSTRALIA     908\n",
      "1          2  Ravichandran Ashwin         INDIA     848\n",
      "2          3          Tim Southee   NEW ZEALAND     824\n",
      "3          4       Josh Hazlewood     AUSTRALIA     816\n",
      "4          5          Neil Wagner   NEW ZEALAND     810\n",
      "..       ...                  ...           ...     ...\n",
      "92        95      Kane Williamson   NEW ZEALAND     116\n",
      "93        96    Washington Sundar         INDIA     107\n",
      "94        97           Dean Elgar  SOUTH AFRICA     102\n",
      "95        98       Tendai Chisoro      ZIMBABWE      88\n",
      "96        99        Navdeep Saini         INDIA      86\n",
      "\n",
      "[97 rows x 4 columns]\n"
     ]
    }
   ],
   "source": [
    "#--------bowlers------Bow3_.xlsc\n",
    "\n",
    "driv=r\"C:\\Users\\Merit\\Downloads\\chromedriver_win32 (1)\\chromedriver.exe\"\n",
    "driver = webdriver.Chrome(executable_path=driv)\n",
    "driver.get(\"https://www.cricbuzz.com/cricket-stats/icc-rankings/men/bowling\")\n",
    "\n",
    "\n",
    "\n",
    "driver.find_element_by_xpath(\"//a[@id='bowlers-tests-tab']\").click()\n",
    "a=driver.find_elements_by_xpath(\"//a[@id='bowlers-tests-tab']//following::div[contains(@class,'cb-col cb-col-100 cb-font-14 cb-lst-itm text-center')]\")\n",
    "l=[]\n",
    "for i in a:\n",
    "    l.append(i.text.split(\"\\n\"))\n",
    "print(l,end=\" \")\n",
    "driver.find_element_by_xpath(\"//a[@id='bowlers-odis-tab']\").click()\n",
    "c=driver.find_elements_by_xpath(\"//a[@id='bowlers-odis-tab']//following::div[contains(@class,'cb-col cb-col-100 cb-font-14 cb-lst-itm text-center')]\")\n",
    "l1=[]\n",
    "for j in c:\n",
    "    if j.text!='':\n",
    "        l1.append(j.text.split(\"\\n\"))\n",
    "print(l1,end=\" \")\n",
    "driver.find_element_by_xpath(\"//a[@id='bowlers-t20s-tab']\").click()\n",
    "d=driver.find_elements_by_xpath(\"//a[@id='bowlers-t20s-tab']//following::div[contains(@class,'cb-col cb-col-100 cb-font-14 cb-lst-itm text-center')]\")\n",
    "l2=[]\n",
    "for k in d:\n",
    "    if k.text!='':\n",
    "        l2.append(k.text.split(\"\\n\"))\n",
    "print(l2,end=\" \")\n",
    "# dataframe\n",
    "\n",
    "\n",
    "writer = pd.ExcelWriter('Bow3_.xlsx', engine='xlsxwriter')\n",
    "df = pd.DataFrame(l, columns = [\"Position\",\"NAN\",\"Player\",\"Country\",\"Rating\"])\n",
    "df1 = pd.DataFrame(l1, columns = [\"Position\",\"NAN\",\"Player\",\"Country\",\"Rating\"])\n",
    "df2 = pd.DataFrame(l2, columns = [\"Position\",\"NAN\",\"Player\",\"Country\",\"Rating\"])\n",
    "df2.drop(columns='NAN',axis=\"columns\",inplace=True)\n",
    "df1.drop(columns='NAN',axis=\"columns\",inplace=True)\n",
    "df.drop(columns='NAN',axis=\"columns\",inplace=True)\n",
    "time.sleep(2)\n",
    "\n",
    "writer.save()\n",
    "\n",
    "writer = pd.ExcelWriter('Bow3_.xlsx', engine='xlsxwriter')\n",
    "\n",
    "df.to_excel(writer, sheet_name='Bow-TEST', index=False)\n",
    "df1.to_excel(writer,sheet_name='Bow-ODI', index=False)\n",
    "df2.to_excel(writer,sheet_name='Bow-T20', index=False)\n",
    "\n",
    "writer.save()\n",
    "reader = pd.read_excel(r'Bow3_.xlsx')\n",
    "print(reader)\n",
    "df.to_excel(writer,index=False,header=False)\n",
    "df1.to_excel(writer,index=False,header=False)\n",
    "df2.to_excel(writer,index=False,header=False)"
   ]
  },
  {
   "cell_type": "code",
   "execution_count": 16,
   "id": "86c404c2",
   "metadata": {},
   "outputs": [
    {
     "name": "stdout",
     "output_type": "stream",
     "text": [
      "[['1', '    –', 'Jason Holder', 'WEST INDIES', '414'], ['2', '    –', 'Ben Stokes', 'ENGLAND', '362'], ['3', '    –', 'Ravindra Jadeja', 'INDIA', '359'], ['4', '    –', 'Ravichandran Ashwin', 'INDIA', '345'], ['5', '    –', 'Shakib Al Hasan', 'BANGLADESH', '334'], ['6', '    –', 'Kyle Jamieson', 'NEW ZEALAND', '311'], ['7', '    –', 'Mitchell Starc', 'AUSTRALIA', '275'], ['8', '    –', 'Pat Cummins', 'AUSTRALIA', '249'], ['9', '    –', 'Colin de Grandhomme', 'NEW ZEALAND', '232'], ['10', '    –', 'Chris Woakes', 'ENGLAND', '219'], [''], [''], [''], [''], [''], [''], [''], [''], [''], [''], [''], [''], [''], [''], [''], [''], [''], [''], [''], ['']] [['1', '    –', 'Shakib Al Hasan', 'BANGLADESH', '416'], ['2', '    –', 'Mohammad Nabi', 'AFGHANISTAN', '294'], ['3', '    –', 'Chris Woakes', 'ENGLAND', '282'], ['4', '    –', 'Rashid Khan', 'AFGHANISTAN', '270'], ['5', '    –', 'Mitchell Santner', 'NEW ZEALAND', '268'], ['6', '    –', 'Ben Stokes', 'ENGLAND', '266'], ['7', '    –', 'Colin de Grandhomme', 'NEW ZEALAND', '257'], ['8', '    –', 'Imad Wasim', 'PAKISTAN', '256'], ['9', '    –', 'Ravindra Jadeja', 'INDIA', '238'], ['10', '    –', 'Sikandar Raza', 'ZIMBABWE', '237']] [['1', '    1', 'Shakib Al Hasan', 'BANGLADESH', '286'], ['2', '    1', 'Mohammad Nabi', 'AFGHANISTAN', '285'], ['3', '    –', 'Richie Berrington', 'SCOTLAND', '194'], ['4', '    2', 'Khawar Ali', 'OMAN', '159'], ['5', '    3', 'Collins Obuya', 'KENYA', '153'], ['6', '    3', 'Rohan Mustafa', 'UNITED ARAB EMIRATES', '152'], ['7', '    3', 'Glenn Maxwell', 'AUSTRALIA', '151'], ['8', '    3', 'Gareth Delany', 'IRELAND', '150'], ['9', '    1', 'Mitchell Marsh', 'AUSTRALIA', '141'], ['10', '    3', 'Sean Williams', 'ZIMBABWE', '140']]    Position               Player      Country  Rating\n",
      "0         1         Jason Holder  WEST INDIES     414\n",
      "1         2           Ben Stokes      ENGLAND     362\n",
      "2         3      Ravindra Jadeja        INDIA     359\n",
      "3         4  Ravichandran Ashwin        INDIA     345\n",
      "4         5      Shakib Al Hasan   BANGLADESH     334\n",
      "5         6        Kyle Jamieson  NEW ZEALAND     311\n",
      "6         7       Mitchell Starc    AUSTRALIA     275\n",
      "7         8          Pat Cummins    AUSTRALIA     249\n",
      "8         9  Colin de Grandhomme  NEW ZEALAND     232\n",
      "9        10         Chris Woakes      ENGLAND     219\n"
     ]
    }
   ],
   "source": [
    "#-----all-rounder----round.xls\n",
    "\n",
    "driv=r\"C:\\Users\\Merit\\Downloads\\chromedriver_win32 (1)\\chromedriver.exe\"\n",
    "\n",
    "\n",
    "driver = webdriver.Chrome(executable_path=driv)\n",
    "driver.get(\"https://www.cricbuzz.com/cricket-stats/icc-rankings/men/all-rounder\")\n",
    "\n",
    "\n",
    "\n",
    "driver.find_element_by_xpath(\"//a[@id='allrounders-tests-tab']\").click()\n",
    "a=driver.find_elements_by_xpath(\"//a[@id='allrounders-tests-tab']//following::div[contains(@class,'cb-col cb-col-100 cb-font-14 cb-lst-itm text-center')]\")\n",
    "l=[]\n",
    "for i in a:\n",
    "    l.append(i.text.split(\"\\n\"))\n",
    "print(l,end=\" \")\n",
    "driver.find_element_by_xpath(\"//a[@id='allrounders-odis-tab']\").click()\n",
    "c=driver.find_elements_by_xpath(\"//a[@id='allrounders-odis-tab']//following::div[contains(@class,'cb-col cb-col-100 cb-font-14 cb-lst-itm text-center')]\")\n",
    "l1=[]\n",
    "for j in c:\n",
    "    if j.text!='':\n",
    "        l1.append(j.text.split(\"\\n\"))\n",
    "print(l1,end=\" \")\n",
    "driver.find_element_by_xpath(\"//a[@id='allrounders-t20s-tab']\").click()\n",
    "d=driver.find_elements_by_xpath(\"//a[@id='allrounders-t20s-tab']//following::div[contains(@class,'cb-col cb-col-100 cb-font-14 cb-lst-itm text-center')]\")\n",
    "l2=[]\n",
    "for k in d:\n",
    "    if k.text!='':\n",
    "        l2.append(k.text.split(\"\\n\"))\n",
    "print(l2,end=\" \")\n",
    "# dataframe\n",
    "\n",
    "#writer = pd.ExcelWriter(path+\"\\\\\"+'Batting77_.xlsx', engine='xlsxwriter')\n",
    "writer = pd.ExcelWriter('round.xlsx', engine='xlsxwriter')\n",
    "df = pd.DataFrame(l, columns = [\"Position\",\"NAN\",\"Player\",\"Country\",\"Rating\"])\n",
    "df1 = pd.DataFrame(l1, columns = [\"Position\",\"NAN\",\"Player\",\"Country\",\"Rating\"])\n",
    "df2 = pd.DataFrame(l2, columns = [\"Position\",\"NAN\",\"Player\",\"Country\",\"Rating\"])\n",
    "df2.drop(columns='NAN',axis=\"columns\",inplace=True)\n",
    "df1.drop(columns='NAN',axis=\"columns\",inplace=True)\n",
    "df.drop(columns='NAN',axis=\"columns\",inplace=True)\n",
    "time.sleep(2)\n",
    "#writer = pd.ExcelWriter('Batting77_.xlsx', engine='xlsxwriter')\n",
    "writer.save()\n",
    "# Create a Pandas Excel writer using XlsxWriter as the engine.\n",
    "writer = pd.ExcelWriter('round.xlsx', engine='xlsxwriter')\n",
    "# Convert the dataframe to an XlsxWriter Excel object.\n",
    "df.to_excel(writer, sheet_name='round-TEST', index=False)\n",
    "df1.to_excel(writer,sheet_name='round-ODI', index=False)\n",
    "df2.to_excel(writer,sheet_name='round-T20', index=False)\n",
    "# Close the Pandas Excel writer and output the Excel file.\n",
    "writer.save()\n",
    "reader = pd.read_excel(r'round.xlsx')\n",
    "print(reader)\n",
    "df.to_excel(writer,index=False,header=False)\n",
    "df1.to_excel(writer,index=False,header=False)\n",
    "df2.to_excel(writer,index=False,header=False)"
   ]
  },
  {
   "cell_type": "code",
   "execution_count": 21,
   "id": "e1bdc386",
   "metadata": {},
   "outputs": [
    {
     "name": "stdout",
     "output_type": "stream",
     "text": [
      "[['1', 'NEW ZEALAND', '126', '2764'], ['2', 'INDIA', '119', '2987'], ['3', 'AUSTRALIA', '108', '1844'], ['4', 'ENGLAND', '107', '3753'], ['5', 'PAKISTAN', '94', '2247'], ['6', 'SOUTH AFRICA', '88', '1675'], ['7', 'WEST INDIES', '78', '2114'], ['8', 'SRI LANKA', '78', '2095'], ['9', 'BANGLADESH', '49', '779'], ['10', 'ZIMBABWE', '31', '342'], [''], [''], [''], [''], [''], [''], [''], [''], [''], [''], [''], [''], [''], [''], [''], [''], [''], [''], [''], [''], [''], [''], [''], [''], [''], [''], [''], [''], [''], [''], [''], [''], [''], [''], [''], [''], [''], [''], [''], [''], [''], [''], [''], [''], [''], [''], [''], [''], [''], [''], [''], [''], [''], [''], [''], [''], [''], [''], [''], [''], [''], [''], [''], [''], [''], [''], [''], [''], [''], [''], [''], [''], [''], [''], [''], [''], [''], [''], [''], [''], [''], [''], [''], [''], [''], [''], [''], [''], [''], [''], [''], [''], [''], [''], ['']] [['1', 'NEW ZEALAND', '121', '2054'], ['2', 'ENGLAND', '119', '3793'], ['3', 'AUSTRALIA', '116', '3244'], ['4', 'INDIA', '113', '3624'], ['5', 'SOUTH AFRICA', '103', '2267'], ['6', 'PAKISTAN', '93', '2524'], ['7', 'BANGLADESH', '91', '2639'], ['8', 'WEST INDIES', '84', '2523'], ['9', 'SRI LANKA', '79', '2303'], ['10', 'AFGHANISTAN', '62', '1054'], ['11', 'NETHERLANDS', '48', '336'], ['12', 'IRELAND', '46', '1067'], ['13', 'ZIMBABWE', '38', '646'], ['14', 'SCOTLAND', '37', '258'], ['15', 'OMAN', '34', '240'], ['16', 'NEPAL', '24', '119'], ['17', 'UAE', '21', '190'], ['18', 'NAMIBIA', '16', '97'], ['19', 'UNITED STATES', '12', '93'], ['20', 'PAPUA NEW GUINEA', '0', '0']] [['1', 'ENGLAND', '278', '7786'], ['2', 'INDIA', '273', '7093'], ['3', 'NEW ZEALAND', '263', '6048'], ['4', 'PAKISTAN', '261', '8883'], ['5', 'SOUTH AFRICA', '246', '6640'], ['6', 'AUSTRALIA', '240', '7923'], ['7', 'AFGHANISTAN', '236', '2826'], ['8', 'SRI LANKA', '235', '4456'], ['9', 'WEST INDIES', '234', '6792'], ['10', 'BANGLADESH', '234', '4915'], ['11', 'ZIMBABWE', '193', '4249'], ['12', 'NEPAL', '187', '3556'], ['13', 'IRELAND', '187', '3921'], ['14', 'SCOTLAND', '185', '2035'], ['15', 'UAE', '184', '2023'], ['16', 'PAPUA NEW GUINEA', '179', '2501'], ['17', 'NETHERLANDS', '175', '3504'], ['18', 'OMAN', '173', '1732'], ['19', 'NAMIBIA', '157', '2204'], ['20', 'SINGAPORE', '140', '1678'], ['21', 'QATAR', '129', '1422'], ['22', 'CANADA', '126', '1263'], ['23', 'HONG KONG', '121', '1572'], ['24', 'JERSEY', '114', '1481'], ['25', 'KENYA', '112', '894'], ['26', 'ITALY', '111', '663'], ['27', 'KUWAIT', '108', '866'], ['28', 'SAUDI ARABIA', '107', '428'], ['29', 'DENMARK', '101', '606'], ['30', 'BERMUDA', '95', '568'], ['31', 'MALAYSIA', '86', '1723'], ['32', 'UGANDA', '85', '847'], ['33', 'GERMANY', '84', '759'], ['34', 'UNITED STATES', '81', '644'], ['35', 'BOTSWANA', '79', '786'], ['36', 'NIGERIA', '75', '375'], ['37', 'GUERNSEY', '72', '645'], ['39', 'AUSTRIA', '65', '650'], ['41', 'SPAIN', '57', '457'], ['42', 'BAHRAIN', '57', '227'], ['43', 'BELGIUM', '56', '502'], ['44', 'TANZANIA', '56', '167'], ['45', 'PHILIPPINES', '48', '241'], ['46', 'MEXICO', '45', '313'], ['48', 'VANUATU', '44', '435'], ['49', 'BELIZE', '42', '209'], ['50', 'ARGENTINA', '41', '206'], ['51', 'PERU', '36', '179'], ['52', 'FIJI', '35', '105'], ['53', 'MALAWI', '35', '312'], ['54', 'PANAMA', '32', '162'], ['55', 'SAMOA', '32', '159'], ['56', 'JAPAN', '32', '126'], ['57', 'COSTA RICA', '32', '126'], ['58', 'MALTA', '31', '214'], ['59', 'LUXEMBOURG', '30', '358'], ['60', 'THAILAND', '25', '175'], ['61', 'BULGARIA', '24', '313'], ['62', 'PORTUGAL', '24', '119'], ['63', 'CZECH REPUBLIC', '22', '356'], ['64', 'FINLAND', '21', '106'], ['65', 'SOUTH KOREA', '20', '78'], ['66', 'MOZAMBIQUE', '19', '175'], ['67', 'ISLE OF MAN', '19', '77'], ['69', 'BHUTAN', '12', '47'], ['70', 'MALDIVES', '9', '65'], ['71', 'SAINT HELENA', '9', '55'], ['72', 'BRAZIL', '8', '39'], ['73', 'CHILE', '4', '19'], ['74', 'GIBRALTAR', '3', '13'], ['75', 'MYANMAR', '0', '1'], ['76', 'INDONESIA', '0', '0'], ['77', 'LESOTHO', '0', '0'], ['78', 'RWANDA', '0', '0'], ['81', 'CHINA', '0', '0']]    Position          Team  Rating  Points\n",
      "0         1   NEW ZEALAND     126    2764\n",
      "1         2         INDIA     119    2987\n",
      "2         3     AUSTRALIA     108    1844\n",
      "3         4       ENGLAND     107    3753\n",
      "4         5      PAKISTAN      94    2247\n",
      "5         6  SOUTH AFRICA      88    1675\n",
      "6         7   WEST INDIES      78    2114\n",
      "7         8     SRI LANKA      78    2095\n",
      "8         9    BANGLADESH      49     779\n",
      "9        10      ZIMBABWE      31     342\n"
     ]
    }
   ],
   "source": [
    "#-----teams----team.xls\n",
    "\n",
    "driv=r\"C:\\Users\\Merit\\Downloads\\chromedriver_win32 (1)\\chromedriver.exe\"\n",
    "\n",
    "\n",
    "driver = webdriver.Chrome(executable_path=driv)\n",
    "driver.get(\"https://www.cricbuzz.com/cricket-stats/icc-rankings/men/teams\")\n",
    "\n",
    "\n",
    "\n",
    "driver.find_element_by_xpath(\"//a[@id='teams-tests-tab']\").click()\n",
    "a=driver.find_elements_by_xpath(\"//a[@id='teams-tests-tab']//following::div[contains(@class,'cb-col cb-col-100 cb-font-14 cb-brdr-thin-btm text-center')]\")\n",
    "l=[]\n",
    "for i in a:\n",
    "    l.append(i.text.split(\"\\n\"))\n",
    "print(l,end=\" \")\n",
    "driver.find_element_by_xpath(\"//a[@id='teams-odis-tab']\").click()\n",
    "c=driver.find_elements_by_xpath(\"//a[@id='teams-odis-tab']//following::div[contains(@class,'cb-col cb-col-100 cb-font-14 cb-brdr-thin-btm text-center')]\")\n",
    "l1=[]\n",
    "for j in c:\n",
    "    if j.text!='':\n",
    "        l1.append(j.text.split(\"\\n\"))\n",
    "print(l1,end=\" \")\n",
    "driver.find_element_by_xpath(\"//a[@id='teams-t20s-tab']\").click()\n",
    "d=driver.find_elements_by_xpath(\"//a[@id='teams-t20s-tab']//following::div[contains(@class,'cb-col cb-col-100 cb-font-14 cb-brdr-thin-btm text-center')]\")\n",
    "\n",
    "l2=[]\n",
    "for k in d:\n",
    "    if k.text!='':\n",
    "        l2.append(k.text.split(\"\\n\"))\n",
    "print(l2,end=\" \")\n",
    "# dataframe\n",
    "\n",
    "\n",
    "writer = pd.ExcelWriter('team.xlsx', engine='xlsxwriter')\n",
    "df = pd.DataFrame(l, columns = [\"Position\",\"Team\",\"Rating\",\"Points\"])\n",
    "df1 = pd.DataFrame(l1, columns =[\"Position\",\"Team\",\"Rating\",\"Points\"])\n",
    "df2 = pd.DataFrame(l2, columns =[\"Position\",\"Team\",\"Rating\",\"Points\"])\n",
    "\n",
    "time.sleep(2)\n",
    "\n",
    "writer.save()\n",
    "\n",
    "writer = pd.ExcelWriter('team.xlsx', engine='xlsxwriter')\n",
    "\n",
    "df.to_excel(writer, sheet_name='team-TEST', index=False)\n",
    "df1.to_excel(writer,sheet_name='team-ODI', index=False)\n",
    "df2.to_excel(writer,sheet_name='team-T20', index=False)\n",
    "\n",
    "writer.save()\n",
    "reader = pd.read_excel(r'team.xlsx')\n",
    "print(reader)\n",
    "df.to_excel(writer,index=False,header=False)\n",
    "df1.to_excel(writer,index=False,header=False)\n",
    "df2.to_excel(writer,index=False,header=False)"
   ]
  },
  {
   "cell_type": "code",
   "execution_count": null,
   "id": "a2173739",
   "metadata": {},
   "outputs": [],
   "source": [
    "#Task -3 --images---\n",
    "\n",
    "\n",
    "driver=webdriver.Chrome(executable_path=r\"C:\\Users\\Merit\\Downloads\\chromedriver_win32 (1)\\chromedriver.exe\")\n",
    "driver.get(\"https://www.cricbuzz.com/cricket-team\")\n",
    "country=driver.find_elements_by_xpath(\"//body/div[1]/div[2]/div[5]/div[1]\")\n",
    "l=[]\n",
    "for i in country:\n",
    "    l.append(i.text)\n",
    "    l1=l[0].split('\\n')\n",
    "    print(\"country name:\",l1)\n",
    "img=driver.find_elements_by_xpath(\"//div[contains(@class,'cb-col cb-col-25')]\")\n",
    "for i,j in zip(img,l1):\n",
    "    with open(j+\".png\",\"wb\")as a:\n",
    "        a.write(i.screenshot_as_png)\n",
    "driver.close()"
   ]
  },
  {
   "cell_type": "code",
   "execution_count": null,
   "id": "7c98cb0b",
   "metadata": {},
   "outputs": [],
   "source": [
    "\n"
   ]
  },
  {
   "cell_type": "code",
   "execution_count": null,
   "id": "30f538bc",
   "metadata": {},
   "outputs": [],
   "source": []
  },
  {
   "cell_type": "code",
   "execution_count": null,
   "id": "d9c0837e",
   "metadata": {},
   "outputs": [],
   "source": []
  }
 ],
 "metadata": {
  "kernelspec": {
   "display_name": "Python 3",
   "language": "python",
   "name": "python3"
  },
  "language_info": {
   "codemirror_mode": {
    "name": "ipython",
    "version": 3
   },
   "file_extension": ".py",
   "mimetype": "text/x-python",
   "name": "python",
   "nbconvert_exporter": "python",
   "pygments_lexer": "ipython3",
   "version": "3.8.8"
  }
 },
 "nbformat": 4,
 "nbformat_minor": 5
}
