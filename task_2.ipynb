{
 "cells": [
  {
   "cell_type": "code",
   "execution_count": null,
   "id": "cf56a03d",
   "metadata": {},
   "outputs": [],
   "source": []
  },
  {
   "cell_type": "code",
   "execution_count": 8,
   "id": "e6033a11",
   "metadata": {},
   "outputs": [],
   "source": []
  },
  {
   "cell_type": "code",
   "execution_count": 9,
   "id": "fdbc39bc",
   "metadata": {},
   "outputs": [
    {
     "name": "stdout",
     "output_type": "stream",
     "text": [
      "No Data\n"
     ]
    }
   ],
   "source": [
    "from selenium import webdriver\n",
    "import os\n",
    "import time\n",
    "import pandas as pd\n",
    "driver=webdriver.Chrome(executable_path=r\"C:\\Users\\Merit\\Downloads\\chromedriver_win32 (1)\\chromedriver.exe\")\n",
    "driver.maximize_window()\n",
    "driver.get(\"https://ai.fmcsa.dot.gov/hhg/Search.asp?ads=a\")\n",
    "driver.find_element_by_xpath(\"//select[@class='search_select']\").click()\n",
    "writer = pd.ExcelWriter('States_Final.xlsx', engine='xlsxwriter')\n",
    "try:\n",
    "    for i in range(1,98):\n",
    "        l=[]\n",
    "        state=driver.find_element_by_xpath(\"//option[contains(text(),'Please select state')]//following::option[{}]\".format(i))\n",
    "        state.click()\n",
    "        driver.find_element_by_xpath(\"//input[contains(@name,'Submit')]\").click()\n",
    "    #time.sleep(1)\n",
    "        res=driver.find_elements_by_xpath(\"//h2[contains(text(),'Search Results')]//following::tr[contains(@scope,'row')]\")\n",
    "        for j in res:\n",
    "            l.append(j.text.split(\"  \"))        \n",
    "    #print(l,end=\" \")\n",
    "        driver.back()\n",
    "        df=pd.DataFrame(l,columns=[\"name\",\"location\",\"Type\",\"Size\"])\n",
    "# Convert the dataframe to an XlsxWriter Excel object.\n",
    "        df.to_excel(writer, sheet_name=str(i), index=False)\n",
    "    writer.save()\n",
    "except:\n",
    "    print(\"No Data\")\n",
    "writer.close()\n",
    "driver.close()"
   ]
  },
  {
   "cell_type": "code",
   "execution_count": 12,
   "id": "bbe14129",
   "metadata": {},
   "outputs": [],
   "source": [
    "\n"
   ]
  },
  {
   "cell_type": "code",
   "execution_count": null,
   "id": "406277a3",
   "metadata": {},
   "outputs": [],
   "source": []
  }
 ],
 "metadata": {
  "kernelspec": {
   "display_name": "Python 3",
   "language": "python",
   "name": "python3"
  },
  "language_info": {
   "codemirror_mode": {
    "name": "ipython",
    "version": 3
   },
   "file_extension": ".py",
   "mimetype": "text/x-python",
   "name": "python",
   "nbconvert_exporter": "python",
   "pygments_lexer": "ipython3",
   "version": "3.8.8"
  }
 },
 "nbformat": 4,
 "nbformat_minor": 5
}
